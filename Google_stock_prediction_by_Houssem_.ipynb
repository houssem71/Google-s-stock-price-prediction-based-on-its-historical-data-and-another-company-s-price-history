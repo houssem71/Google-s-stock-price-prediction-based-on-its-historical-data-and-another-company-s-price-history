{
  "nbformat": 4,
  "nbformat_minor": 0,
  "metadata": {
    "colab": {
      "provenance": [],
      "collapsed_sections": []
    },
    "kernelspec": {
      "name": "python3",
      "display_name": "Python 3"
    },
    "language_info": {
      "name": "python"
    }
  },
  "cells": [
    {
      "cell_type": "markdown",
      "source": [
        "## Data Preprocessing"
      ],
      "metadata": {
        "id": "KfGhQv5Sw2J9"
      }
    },
    {
      "cell_type": "markdown",
      "source": [
        "### Importing necessary libraries"
      ],
      "metadata": {
        "id": "FLGnHq1Kw2Gq"
      }
    },
    {
      "cell_type": "code",
      "execution_count": 176,
      "metadata": {
        "id": "YSgFuOVGwzDd"
      },
      "outputs": [],
      "source": [
        "import numpy as np\n",
        "import pandas as pd \n",
        "import matplotlib.pyplot as plt \n",
        "import warnings\n",
        "warnings.filterwarnings(\"ignore\")"
      ]
    },
    {
      "cell_type": "markdown",
      "source": [
        "### Importing the data "
      ],
      "metadata": {
        "id": "jcjG2xJaxIcF"
      }
    },
    {
      "cell_type": "code",
      "source": [
        "train=pd.read_csv('/content/Google_Stock_Price_Train.csv')\n",
        "train.head(-2)"
      ],
      "metadata": {
        "colab": {
          "base_uri": "https://localhost:8080/",
          "height": 424
        },
        "id": "Cv15bQVExHul",
        "outputId": "33e8e92c-d87c-4b57-cc59-8f77ca131194"
      },
      "execution_count": 177,
      "outputs": [
        {
          "output_type": "execute_result",
          "data": {
            "text/plain": [
              "            Date    Open    High     Low   Close      Volume\n",
              "0       1/3/2012  325.25  332.83  324.97  663.59   7,380,500\n",
              "1       1/4/2012  331.27  333.87  329.08  666.45   5,749,400\n",
              "2       1/5/2012  329.83  330.75  326.89  657.21   6,590,300\n",
              "3       1/6/2012  328.34  328.77  323.68  648.24   5,405,900\n",
              "4       1/9/2012  322.04  322.29  309.46  620.76  11,688,800\n",
              "...          ...     ...     ...     ...     ...         ...\n",
              "1251  12/21/2016  795.84  796.68  787.10  794.56   1,211,300\n",
              "1252  12/22/2016  792.36  793.32  788.58  791.26     972,200\n",
              "1253  12/23/2016  790.90  792.74  787.28  789.91     623,400\n",
              "1254  12/27/2016  790.68  797.86  787.66  791.55     789,100\n",
              "1255  12/28/2016  793.70  794.23  783.20  785.05   1,153,800\n",
              "\n",
              "[1256 rows x 6 columns]"
            ],
            "text/html": [
              "\n",
              "  <div id=\"df-8f7280c1-f6ac-4aff-aac9-9b432bf597e0\">\n",
              "    <div class=\"colab-df-container\">\n",
              "      <div>\n",
              "<style scoped>\n",
              "    .dataframe tbody tr th:only-of-type {\n",
              "        vertical-align: middle;\n",
              "    }\n",
              "\n",
              "    .dataframe tbody tr th {\n",
              "        vertical-align: top;\n",
              "    }\n",
              "\n",
              "    .dataframe thead th {\n",
              "        text-align: right;\n",
              "    }\n",
              "</style>\n",
              "<table border=\"1\" class=\"dataframe\">\n",
              "  <thead>\n",
              "    <tr style=\"text-align: right;\">\n",
              "      <th></th>\n",
              "      <th>Date</th>\n",
              "      <th>Open</th>\n",
              "      <th>High</th>\n",
              "      <th>Low</th>\n",
              "      <th>Close</th>\n",
              "      <th>Volume</th>\n",
              "    </tr>\n",
              "  </thead>\n",
              "  <tbody>\n",
              "    <tr>\n",
              "      <th>0</th>\n",
              "      <td>1/3/2012</td>\n",
              "      <td>325.25</td>\n",
              "      <td>332.83</td>\n",
              "      <td>324.97</td>\n",
              "      <td>663.59</td>\n",
              "      <td>7,380,500</td>\n",
              "    </tr>\n",
              "    <tr>\n",
              "      <th>1</th>\n",
              "      <td>1/4/2012</td>\n",
              "      <td>331.27</td>\n",
              "      <td>333.87</td>\n",
              "      <td>329.08</td>\n",
              "      <td>666.45</td>\n",
              "      <td>5,749,400</td>\n",
              "    </tr>\n",
              "    <tr>\n",
              "      <th>2</th>\n",
              "      <td>1/5/2012</td>\n",
              "      <td>329.83</td>\n",
              "      <td>330.75</td>\n",
              "      <td>326.89</td>\n",
              "      <td>657.21</td>\n",
              "      <td>6,590,300</td>\n",
              "    </tr>\n",
              "    <tr>\n",
              "      <th>3</th>\n",
              "      <td>1/6/2012</td>\n",
              "      <td>328.34</td>\n",
              "      <td>328.77</td>\n",
              "      <td>323.68</td>\n",
              "      <td>648.24</td>\n",
              "      <td>5,405,900</td>\n",
              "    </tr>\n",
              "    <tr>\n",
              "      <th>4</th>\n",
              "      <td>1/9/2012</td>\n",
              "      <td>322.04</td>\n",
              "      <td>322.29</td>\n",
              "      <td>309.46</td>\n",
              "      <td>620.76</td>\n",
              "      <td>11,688,800</td>\n",
              "    </tr>\n",
              "    <tr>\n",
              "      <th>...</th>\n",
              "      <td>...</td>\n",
              "      <td>...</td>\n",
              "      <td>...</td>\n",
              "      <td>...</td>\n",
              "      <td>...</td>\n",
              "      <td>...</td>\n",
              "    </tr>\n",
              "    <tr>\n",
              "      <th>1251</th>\n",
              "      <td>12/21/2016</td>\n",
              "      <td>795.84</td>\n",
              "      <td>796.68</td>\n",
              "      <td>787.10</td>\n",
              "      <td>794.56</td>\n",
              "      <td>1,211,300</td>\n",
              "    </tr>\n",
              "    <tr>\n",
              "      <th>1252</th>\n",
              "      <td>12/22/2016</td>\n",
              "      <td>792.36</td>\n",
              "      <td>793.32</td>\n",
              "      <td>788.58</td>\n",
              "      <td>791.26</td>\n",
              "      <td>972,200</td>\n",
              "    </tr>\n",
              "    <tr>\n",
              "      <th>1253</th>\n",
              "      <td>12/23/2016</td>\n",
              "      <td>790.90</td>\n",
              "      <td>792.74</td>\n",
              "      <td>787.28</td>\n",
              "      <td>789.91</td>\n",
              "      <td>623,400</td>\n",
              "    </tr>\n",
              "    <tr>\n",
              "      <th>1254</th>\n",
              "      <td>12/27/2016</td>\n",
              "      <td>790.68</td>\n",
              "      <td>797.86</td>\n",
              "      <td>787.66</td>\n",
              "      <td>791.55</td>\n",
              "      <td>789,100</td>\n",
              "    </tr>\n",
              "    <tr>\n",
              "      <th>1255</th>\n",
              "      <td>12/28/2016</td>\n",
              "      <td>793.70</td>\n",
              "      <td>794.23</td>\n",
              "      <td>783.20</td>\n",
              "      <td>785.05</td>\n",
              "      <td>1,153,800</td>\n",
              "    </tr>\n",
              "  </tbody>\n",
              "</table>\n",
              "<p>1256 rows × 6 columns</p>\n",
              "</div>\n",
              "      <button class=\"colab-df-convert\" onclick=\"convertToInteractive('df-8f7280c1-f6ac-4aff-aac9-9b432bf597e0')\"\n",
              "              title=\"Convert this dataframe to an interactive table.\"\n",
              "              style=\"display:none;\">\n",
              "        \n",
              "  <svg xmlns=\"http://www.w3.org/2000/svg\" height=\"24px\"viewBox=\"0 0 24 24\"\n",
              "       width=\"24px\">\n",
              "    <path d=\"M0 0h24v24H0V0z\" fill=\"none\"/>\n",
              "    <path d=\"M18.56 5.44l.94 2.06.94-2.06 2.06-.94-2.06-.94-.94-2.06-.94 2.06-2.06.94zm-11 1L8.5 8.5l.94-2.06 2.06-.94-2.06-.94L8.5 2.5l-.94 2.06-2.06.94zm10 10l.94 2.06.94-2.06 2.06-.94-2.06-.94-.94-2.06-.94 2.06-2.06.94z\"/><path d=\"M17.41 7.96l-1.37-1.37c-.4-.4-.92-.59-1.43-.59-.52 0-1.04.2-1.43.59L10.3 9.45l-7.72 7.72c-.78.78-.78 2.05 0 2.83L4 21.41c.39.39.9.59 1.41.59.51 0 1.02-.2 1.41-.59l7.78-7.78 2.81-2.81c.8-.78.8-2.07 0-2.86zM5.41 20L4 18.59l7.72-7.72 1.47 1.35L5.41 20z\"/>\n",
              "  </svg>\n",
              "      </button>\n",
              "      \n",
              "  <style>\n",
              "    .colab-df-container {\n",
              "      display:flex;\n",
              "      flex-wrap:wrap;\n",
              "      gap: 12px;\n",
              "    }\n",
              "\n",
              "    .colab-df-convert {\n",
              "      background-color: #E8F0FE;\n",
              "      border: none;\n",
              "      border-radius: 50%;\n",
              "      cursor: pointer;\n",
              "      display: none;\n",
              "      fill: #1967D2;\n",
              "      height: 32px;\n",
              "      padding: 0 0 0 0;\n",
              "      width: 32px;\n",
              "    }\n",
              "\n",
              "    .colab-df-convert:hover {\n",
              "      background-color: #E2EBFA;\n",
              "      box-shadow: 0px 1px 2px rgba(60, 64, 67, 0.3), 0px 1px 3px 1px rgba(60, 64, 67, 0.15);\n",
              "      fill: #174EA6;\n",
              "    }\n",
              "\n",
              "    [theme=dark] .colab-df-convert {\n",
              "      background-color: #3B4455;\n",
              "      fill: #D2E3FC;\n",
              "    }\n",
              "\n",
              "    [theme=dark] .colab-df-convert:hover {\n",
              "      background-color: #434B5C;\n",
              "      box-shadow: 0px 1px 3px 1px rgba(0, 0, 0, 0.15);\n",
              "      filter: drop-shadow(0px 1px 2px rgba(0, 0, 0, 0.3));\n",
              "      fill: #FFFFFF;\n",
              "    }\n",
              "  </style>\n",
              "\n",
              "      <script>\n",
              "        const buttonEl =\n",
              "          document.querySelector('#df-8f7280c1-f6ac-4aff-aac9-9b432bf597e0 button.colab-df-convert');\n",
              "        buttonEl.style.display =\n",
              "          google.colab.kernel.accessAllowed ? 'block' : 'none';\n",
              "\n",
              "        async function convertToInteractive(key) {\n",
              "          const element = document.querySelector('#df-8f7280c1-f6ac-4aff-aac9-9b432bf597e0');\n",
              "          const dataTable =\n",
              "            await google.colab.kernel.invokeFunction('convertToInteractive',\n",
              "                                                     [key], {});\n",
              "          if (!dataTable) return;\n",
              "\n",
              "          const docLinkHtml = 'Like what you see? Visit the ' +\n",
              "            '<a target=\"_blank\" href=https://colab.research.google.com/notebooks/data_table.ipynb>data table notebook</a>'\n",
              "            + ' to learn more about interactive tables.';\n",
              "          element.innerHTML = '';\n",
              "          dataTable['output_type'] = 'display_data';\n",
              "          await google.colab.output.renderOutput(dataTable, element);\n",
              "          const docLink = document.createElement('div');\n",
              "          docLink.innerHTML = docLinkHtml;\n",
              "          element.appendChild(docLink);\n",
              "        }\n",
              "      </script>\n",
              "    </div>\n",
              "  </div>\n",
              "  "
            ]
          },
          "metadata": {},
          "execution_count": 177
        }
      ]
    },
    {
      "cell_type": "code",
      "source": [
        "test=pd.read_csv('/content/Google_Stock_Price_Test.csv')\n",
        "test.head()"
      ],
      "metadata": {
        "colab": {
          "base_uri": "https://localhost:8080/",
          "height": 206
        },
        "id": "djN8nUX9xdc2",
        "outputId": "01ca608e-4190-4e50-8249-2a0eb85d5f5e"
      },
      "execution_count": 178,
      "outputs": [
        {
          "output_type": "execute_result",
          "data": {
            "text/plain": [
              "       Date    Open    High     Low   Close     Volume\n",
              "0  1/3/2017  778.81  789.63  775.80  786.14  1,657,300\n",
              "1  1/4/2017  788.36  791.34  783.16  786.90  1,073,000\n",
              "2  1/5/2017  786.08  794.48  785.02  794.02  1,335,200\n",
              "3  1/6/2017  795.26  807.90  792.20  806.15  1,640,200\n",
              "4  1/9/2017  806.40  809.97  802.83  806.65  1,272,400"
            ],
            "text/html": [
              "\n",
              "  <div id=\"df-d27c54b5-23ab-40e3-825b-ec1a02136dfd\">\n",
              "    <div class=\"colab-df-container\">\n",
              "      <div>\n",
              "<style scoped>\n",
              "    .dataframe tbody tr th:only-of-type {\n",
              "        vertical-align: middle;\n",
              "    }\n",
              "\n",
              "    .dataframe tbody tr th {\n",
              "        vertical-align: top;\n",
              "    }\n",
              "\n",
              "    .dataframe thead th {\n",
              "        text-align: right;\n",
              "    }\n",
              "</style>\n",
              "<table border=\"1\" class=\"dataframe\">\n",
              "  <thead>\n",
              "    <tr style=\"text-align: right;\">\n",
              "      <th></th>\n",
              "      <th>Date</th>\n",
              "      <th>Open</th>\n",
              "      <th>High</th>\n",
              "      <th>Low</th>\n",
              "      <th>Close</th>\n",
              "      <th>Volume</th>\n",
              "    </tr>\n",
              "  </thead>\n",
              "  <tbody>\n",
              "    <tr>\n",
              "      <th>0</th>\n",
              "      <td>1/3/2017</td>\n",
              "      <td>778.81</td>\n",
              "      <td>789.63</td>\n",
              "      <td>775.80</td>\n",
              "      <td>786.14</td>\n",
              "      <td>1,657,300</td>\n",
              "    </tr>\n",
              "    <tr>\n",
              "      <th>1</th>\n",
              "      <td>1/4/2017</td>\n",
              "      <td>788.36</td>\n",
              "      <td>791.34</td>\n",
              "      <td>783.16</td>\n",
              "      <td>786.90</td>\n",
              "      <td>1,073,000</td>\n",
              "    </tr>\n",
              "    <tr>\n",
              "      <th>2</th>\n",
              "      <td>1/5/2017</td>\n",
              "      <td>786.08</td>\n",
              "      <td>794.48</td>\n",
              "      <td>785.02</td>\n",
              "      <td>794.02</td>\n",
              "      <td>1,335,200</td>\n",
              "    </tr>\n",
              "    <tr>\n",
              "      <th>3</th>\n",
              "      <td>1/6/2017</td>\n",
              "      <td>795.26</td>\n",
              "      <td>807.90</td>\n",
              "      <td>792.20</td>\n",
              "      <td>806.15</td>\n",
              "      <td>1,640,200</td>\n",
              "    </tr>\n",
              "    <tr>\n",
              "      <th>4</th>\n",
              "      <td>1/9/2017</td>\n",
              "      <td>806.40</td>\n",
              "      <td>809.97</td>\n",
              "      <td>802.83</td>\n",
              "      <td>806.65</td>\n",
              "      <td>1,272,400</td>\n",
              "    </tr>\n",
              "  </tbody>\n",
              "</table>\n",
              "</div>\n",
              "      <button class=\"colab-df-convert\" onclick=\"convertToInteractive('df-d27c54b5-23ab-40e3-825b-ec1a02136dfd')\"\n",
              "              title=\"Convert this dataframe to an interactive table.\"\n",
              "              style=\"display:none;\">\n",
              "        \n",
              "  <svg xmlns=\"http://www.w3.org/2000/svg\" height=\"24px\"viewBox=\"0 0 24 24\"\n",
              "       width=\"24px\">\n",
              "    <path d=\"M0 0h24v24H0V0z\" fill=\"none\"/>\n",
              "    <path d=\"M18.56 5.44l.94 2.06.94-2.06 2.06-.94-2.06-.94-.94-2.06-.94 2.06-2.06.94zm-11 1L8.5 8.5l.94-2.06 2.06-.94-2.06-.94L8.5 2.5l-.94 2.06-2.06.94zm10 10l.94 2.06.94-2.06 2.06-.94-2.06-.94-.94-2.06-.94 2.06-2.06.94z\"/><path d=\"M17.41 7.96l-1.37-1.37c-.4-.4-.92-.59-1.43-.59-.52 0-1.04.2-1.43.59L10.3 9.45l-7.72 7.72c-.78.78-.78 2.05 0 2.83L4 21.41c.39.39.9.59 1.41.59.51 0 1.02-.2 1.41-.59l7.78-7.78 2.81-2.81c.8-.78.8-2.07 0-2.86zM5.41 20L4 18.59l7.72-7.72 1.47 1.35L5.41 20z\"/>\n",
              "  </svg>\n",
              "      </button>\n",
              "      \n",
              "  <style>\n",
              "    .colab-df-container {\n",
              "      display:flex;\n",
              "      flex-wrap:wrap;\n",
              "      gap: 12px;\n",
              "    }\n",
              "\n",
              "    .colab-df-convert {\n",
              "      background-color: #E8F0FE;\n",
              "      border: none;\n",
              "      border-radius: 50%;\n",
              "      cursor: pointer;\n",
              "      display: none;\n",
              "      fill: #1967D2;\n",
              "      height: 32px;\n",
              "      padding: 0 0 0 0;\n",
              "      width: 32px;\n",
              "    }\n",
              "\n",
              "    .colab-df-convert:hover {\n",
              "      background-color: #E2EBFA;\n",
              "      box-shadow: 0px 1px 2px rgba(60, 64, 67, 0.3), 0px 1px 3px 1px rgba(60, 64, 67, 0.15);\n",
              "      fill: #174EA6;\n",
              "    }\n",
              "\n",
              "    [theme=dark] .colab-df-convert {\n",
              "      background-color: #3B4455;\n",
              "      fill: #D2E3FC;\n",
              "    }\n",
              "\n",
              "    [theme=dark] .colab-df-convert:hover {\n",
              "      background-color: #434B5C;\n",
              "      box-shadow: 0px 1px 3px 1px rgba(0, 0, 0, 0.15);\n",
              "      filter: drop-shadow(0px 1px 2px rgba(0, 0, 0, 0.3));\n",
              "      fill: #FFFFFF;\n",
              "    }\n",
              "  </style>\n",
              "\n",
              "      <script>\n",
              "        const buttonEl =\n",
              "          document.querySelector('#df-d27c54b5-23ab-40e3-825b-ec1a02136dfd button.colab-df-convert');\n",
              "        buttonEl.style.display =\n",
              "          google.colab.kernel.accessAllowed ? 'block' : 'none';\n",
              "\n",
              "        async function convertToInteractive(key) {\n",
              "          const element = document.querySelector('#df-d27c54b5-23ab-40e3-825b-ec1a02136dfd');\n",
              "          const dataTable =\n",
              "            await google.colab.kernel.invokeFunction('convertToInteractive',\n",
              "                                                     [key], {});\n",
              "          if (!dataTable) return;\n",
              "\n",
              "          const docLinkHtml = 'Like what you see? Visit the ' +\n",
              "            '<a target=\"_blank\" href=https://colab.research.google.com/notebooks/data_table.ipynb>data table notebook</a>'\n",
              "            + ' to learn more about interactive tables.';\n",
              "          element.innerHTML = '';\n",
              "          dataTable['output_type'] = 'display_data';\n",
              "          await google.colab.output.renderOutput(dataTable, element);\n",
              "          const docLink = document.createElement('div');\n",
              "          docLink.innerHTML = docLinkHtml;\n",
              "          element.appendChild(docLink);\n",
              "        }\n",
              "      </script>\n",
              "    </div>\n",
              "  </div>\n",
              "  "
            ]
          },
          "metadata": {},
          "execution_count": 178
        }
      ]
    },
    {
      "cell_type": "markdown",
      "source": [
        "### Exploring the data "
      ],
      "metadata": {
        "id": "AIfNQ6hV3MOI"
      }
    },
    {
      "cell_type": "code",
      "source": [
        "print('the shape of the train \\n',train.shape)\n",
        "print('the shape of the test \\n',test.shape)"
      ],
      "metadata": {
        "colab": {
          "base_uri": "https://localhost:8080/"
        },
        "id": "nWg9a30gy1XM",
        "outputId": "b49f89c7-3b9e-47cd-d9c7-e5c163a8cefb"
      },
      "execution_count": 179,
      "outputs": [
        {
          "output_type": "stream",
          "name": "stdout",
          "text": [
            "the shape of the train \n",
            " (1258, 6)\n",
            "the shape of the test \n",
            " (20, 6)\n"
          ]
        }
      ]
    },
    {
      "cell_type": "markdown",
      "source": [
        "the years of the historical data "
      ],
      "metadata": {
        "id": "5ckIG8y62v5g"
      }
    },
    {
      "cell_type": "code",
      "source": [
        "Date=pd.DataFrame()\n",
        "Date['Year'] = pd.DatetimeIndex(train['Date']).year\n",
        "Date['Year'].value_counts()"
      ],
      "metadata": {
        "colab": {
          "base_uri": "https://localhost:8080/"
        },
        "id": "KmaGDv_QzY0A",
        "outputId": "dc71375c-e9e6-47e1-996c-6781008581e0"
      },
      "execution_count": 180,
      "outputs": [
        {
          "output_type": "execute_result",
          "data": {
            "text/plain": [
              "2013    252\n",
              "2014    252\n",
              "2015    252\n",
              "2016    252\n",
              "2012    250\n",
              "Name: Year, dtype: int64"
            ]
          },
          "metadata": {},
          "execution_count": 180
        }
      ]
    },
    {
      "cell_type": "markdown",
      "source": [
        "#### Exploring the features that the model will be trained or will predict for the January 2017 "
      ],
      "metadata": {
        "id": "f4R1gXCrDs_j"
      }
    },
    {
      "cell_type": "code",
      "source": [
        "fig=plt.figure(figsize=(12,8))\n",
        "plt.plot(train['Date'], train['Open'])\n",
        "axes = plt.axes()\n",
        "x_values = axes.get_xticks()\n",
        "y_values = axes.get_yticks()\n",
        "x_len = len(x_values)\n",
        "y_len = len(y_values)\n",
        "new_x = [x_values[i] for i in [0, x_len // 12, -1]]\n",
        "new_y = [y_values[i] for i in [0, y_len // 12, -1]]\n",
        "axes.set_xticks(new_x)\n",
        "axes.set_yticks(new_y)\n",
        "# naming the x axis\n",
        "plt.xlabel('Date')\n",
        "# naming the y axis\n",
        "plt.ylabel('Open price of the stock')\n",
        "plt.title('Exploring the trend of the open price during the historical dates')\n",
        "plt.show()"
      ],
      "metadata": {
        "colab": {
          "base_uri": "https://localhost:8080/",
          "height": 585
        },
        "id": "kkvnpIK-3DFT",
        "outputId": "a9e9dbc0-09f4-4ef8-98f0-b8f052323176"
      },
      "execution_count": 181,
      "outputs": [
        {
          "output_type": "display_data",
          "data": {
            "text/plain": [
              "<Figure size 864x576 with 1 Axes>"
            ],
            "image/png": "[encoded data removed]"
          },
          "metadata": {
            "needs_background": "light"
          }
        }
      ]
    },
    {
      "cell_type": "code",
      "source": [
        "fig=plt.figure(figsize=(12,8))\n",
        "plt.plot(test['Date'], test['Open'])\n",
        "axes = plt.axes()\n",
        "x_values = axes.get_xticks()\n",
        "y_values = axes.get_yticks()\n",
        "x_len = len(x_values)\n",
        "y_len = len(y_values)\n",
        "new_x = [x_values[i] for i in [0, x_len // 4, -1]]\n",
        "new_y = [y_values[i] for i in [0, y_len // 4, -1]]\n",
        "axes.set_xticks(new_x)\n",
        "axes.set_yticks(new_y)\n",
        "# naming the x axis\n",
        "plt.xlabel('Date')\n",
        "# naming the y axis\n",
        "plt.ylabel('Open price of the stock')\n",
        "plt.title('Exploring the trend of the open price during the historical dates')\n",
        "plt.show()"
      ],
      "metadata": {
        "colab": {
          "base_uri": "https://localhost:8080/",
          "height": 585
        },
        "id": "llUAjBZv44Jw",
        "outputId": "48c14c6e-2d78-42b4-9a14-02c68b915f48"
      },
      "execution_count": 182,
      "outputs": [
        {
          "output_type": "display_data",
          "data": {
            "text/plain": [
              "<Figure size 864x576 with 1 Axes>"
            ],
            "image/png": "[encoded data removed]"
          },
          "metadata": {
            "needs_background": "light"
          }
        }
      ]
    },
    {
      "cell_type": "markdown",
      "source": [
        "#### geting the useful training set and put it in a dimensional array  "
      ],
      "metadata": {
        "id": "OWG20HjEE3vo"
      }
    },
    {
      "cell_type": "code",
      "source": [
        "train_set=train.iloc[:,1:2].values"
      ],
      "metadata": {
        "id": "ZABJfgMTA0KL"
      },
      "execution_count": 183,
      "outputs": []
    },
    {
      "cell_type": "markdown",
      "source": [
        "### Features Scaling  "
      ],
      "metadata": {
        "id": "LSpliV4UFFR6"
      }
    },
    {
      "cell_type": "code",
      "source": [
        "from sklearn.preprocessing import MinMaxScaler\n",
        "scaler=MinMaxScaler(feature_range = (0, 1))\n",
        "train_set_scaled = scaler.fit_transform(train_set)\n",
        "train_set_scaled"
      ],
      "metadata": {
        "colab": {
          "base_uri": "https://localhost:8080/"
        },
        "id": "t_rsdeFuEExw",
        "outputId": "ec1ce294-0b8f-424d-a461-5a3c3e373c99"
      },
      "execution_count": 184,
      "outputs": [
        {
          "output_type": "execute_result",
          "data": {
            "text/plain": [
              "array([[0.08581368],\n",
              "       [0.09701243],\n",
              "       [0.09433366],\n",
              "       ...,\n",
              "       [0.95725128],\n",
              "       [0.93796041],\n",
              "       [0.93688146]])"
            ]
          },
          "metadata": {},
          "execution_count": 184
        }
      ]
    },
    {
      "cell_type": "markdown",
      "source": [
        "### Creating a new data structure by shifting the data by 75 timestep"
      ],
      "metadata": {
        "id": "LIF21i5lGjpb"
      }
    },
    {
      "cell_type": "code",
      "source": [
        "from statsmodels.graphics.tsaplots import plot_pacf\n",
        "_ = plot_pacf(train['Open'], lags=75)"
      ],
      "metadata": {
        "colab": {
          "base_uri": "https://localhost:8080/",
          "height": 261
        },
        "id": "WkX0E48lYeK7",
        "outputId": "53f9c2a0-d815-41db-c64d-5ff7a5125ecb"
      },
      "execution_count": 185,
      "outputs": [
        {
          "output_type": "display_data",
          "data": {
            "text/plain": [
              "<Figure size 504x252 with 1 Axes>"
            ],
            "image/png": "[encoded data removed]"
          },
          "metadata": {
            "needs_background": "light"
          }
        }
      ]
    },
    {
      "cell_type": "code",
      "source": [
        "len(train_set_scaled)"
      ],
      "metadata": {
        "colab": {
          "base_uri": "https://localhost:8080/"
        },
        "id": "pDoY8qFEN0_e",
        "outputId": "265aceca-60c1-4a73-98f9-2e1fe9268cc8"
      },
      "execution_count": 186,
      "outputs": [
        {
          "output_type": "execute_result",
          "data": {
            "text/plain": [
              "1258"
            ]
          },
          "metadata": {},
          "execution_count": 186
        }
      ]
    },
    {
      "cell_type": "code",
      "source": [
        "Shift_train=[]\n",
        "y_train=[]\n",
        "n=len(train_set_scaled)\n",
        "TS=50\n",
        "for i in range (TS,n) : \n",
        "  Shift_train.append(train_set_scaled[i-TS:i,0])\n",
        "  y_train.append(train_set_scaled[i,0])\n",
        "\n"
      ],
      "metadata": {
        "id": "qMvFT25XFc5Z"
      },
      "execution_count": 187,
      "outputs": []
    },
    {
      "cell_type": "code",
      "source": [
        "shift=pd.DataFrame(data=Shift_train)\n",
        "shift.head(-1)"
      ],
      "metadata": {
        "colab": {
          "base_uri": "https://localhost:8080/",
          "height": 488
        },
        "id": "CSZh0ENCJOm_",
        "outputId": "90064ba3-b37b-4f9f-b0bf-09f5654562a3"
      },
      "execution_count": 188,
      "outputs": [
        {
          "output_type": "execute_result",
          "data": {
            "text/plain": [
              "            0         1         2         3         4         5         6   \\\n",
              "0     0.085814  0.097012  0.094334  0.091562  0.079842  0.064328  0.058542   \n",
              "1     0.097012  0.094334  0.091562  0.079842  0.064328  0.058542  0.065686   \n",
              "2     0.094334  0.091562  0.079842  0.064328  0.058542  0.065686  0.061091   \n",
              "3     0.091562  0.079842  0.064328  0.058542  0.065686  0.061091  0.066393   \n",
              "4     0.079842  0.064328  0.058542  0.065686  0.061091  0.066393  0.061426   \n",
              "...        ...       ...       ...       ...       ...       ...       ...   \n",
              "1202  0.938760  0.934035  0.934835  0.931394  0.946369  0.965697  0.975110   \n",
              "1203  0.934035  0.934835  0.931394  0.946369  0.965697  0.975110  0.959670   \n",
              "1204  0.934835  0.931394  0.946369  0.965697  0.975110  0.959670  0.978086   \n",
              "1205  0.931394  0.946369  0.965697  0.975110  0.959670  0.978086  1.000000   \n",
              "1206  0.946369  0.965697  0.975110  0.959670  0.978086  1.000000  0.980765   \n",
              "\n",
              "            7         8         9   ...        40        41        42  \\\n",
              "0     0.065686  0.061091  0.066393  ...  0.057389  0.057147  0.055696   \n",
              "1     0.061091  0.066393  0.061426  ...  0.057147  0.055696  0.044218   \n",
              "2     0.066393  0.061426  0.074745  ...  0.055696  0.044218  0.045148   \n",
              "3     0.061426  0.074745  0.027978  ...  0.044218  0.045148  0.046060   \n",
              "4     0.074745  0.027978  0.023793  ...  0.045148  0.046060  0.044125   \n",
              "...        ...       ...       ...  ...       ...       ...       ...   \n",
              "1202  0.959670  0.978086  1.000000  ...  0.917777  0.931766  0.941141   \n",
              "1203  0.978086  1.000000  0.980765  ...  0.931766  0.941141  0.957623   \n",
              "1204  1.000000  0.980765  0.970831  ...  0.941141  0.957623  0.964134   \n",
              "1205  0.980765  0.970831  0.984504  ...  0.957623  0.964134  0.964023   \n",
              "1206  0.970831  0.984504  0.960544  ...  0.964134  0.964023  0.969715   \n",
              "\n",
              "            43        44        45        46        47        48        49  \n",
              "0     0.044218  0.045148  0.046060  0.044125  0.036759  0.044869  0.050655  \n",
              "1     0.045148  0.046060  0.044125  0.036759  0.044869  0.050655  0.052143  \n",
              "2     0.046060  0.044125  0.036759  0.044869  0.050655  0.052143  0.056124  \n",
              "3     0.044125  0.036759  0.044869  0.050655  0.052143  0.056124  0.058189  \n",
              "4     0.036759  0.044869  0.050655  0.052143  0.056124  0.058189  0.065407  \n",
              "...        ...       ...       ...       ...       ...       ...       ...  \n",
              "1202  0.957623  0.964134  0.964023  0.969715  0.950778  0.962944  0.961232  \n",
              "1203  0.964134  0.964023  0.969715  0.950778  0.962944  0.961232  0.954759  \n",
              "1204  0.964023  0.969715  0.950778  0.962944  0.961232  0.954759  0.952043  \n",
              "1205  0.969715  0.950778  0.962944  0.961232  0.954759  0.952043  0.951633  \n",
              "1206  0.950778  0.962944  0.961232  0.954759  0.952043  0.951633  0.957251  \n",
              "\n",
              "[1207 rows x 50 columns]"
            ],
            "text/html": [
              "\n",
              "  <div id=\"df-03ee80e4-4ac8-417c-8dc1-0edcd9cfcb82\">\n",
              "    <div class=\"colab-df-container\">\n",
              "      <div>\n",
              "<style scoped>\n",
              "    .dataframe tbody tr th:only-of-type {\n",
              "        vertical-align: middle;\n",
              "    }\n",
              "\n",
              "    .dataframe tbody tr th {\n",
              "        vertical-align: top;\n",
              "    }\n",
              "\n",
              "    .dataframe thead th {\n",
              "        text-align: right;\n",
              "    }\n",
              "</style>\n",
              "<table border=\"1\" class=\"dataframe\">\n",
              "  <thead>\n",
              "    <tr style=\"text-align: right;\">\n",
              "      <th></th>\n",
              "      <th>0</th>\n",
              "      <th>1</th>\n",
              "      <th>2</th>\n",
              "      <th>3</th>\n",
              "      <th>4</th>\n",
              "      <th>5</th>\n",
              "      <th>6</th>\n",
              "      <th>7</th>\n",
              "      <th>8</th>\n",
              "      <th>9</th>\n",
              "      <th>...</th>\n",
              "      <th>40</th>\n",
              "      <th>41</th>\n",
              "      <th>42</th>\n",
              "      <th>43</th>\n",
              "      <th>44</th>\n",
              "      <th>45</th>\n",
              "      <th>46</th>\n",
              "      <th>47</th>\n",
              "      <th>48</th>\n",
              "      <th>49</th>\n",
              "    </tr>\n",
              "  </thead>\n",
              "  <tbody>\n",
              "    <tr>\n",
              "      <th>0</th>\n",
              "      <td>0.085814</td>\n",
              "      <td>0.097012</td>\n",
              "      <td>0.094334</td>\n",
              "      <td>0.091562</td>\n",
              "      <td>0.079842</td>\n",
              "      <td>0.064328</td>\n",
              "      <td>0.058542</td>\n",
              "      <td>0.065686</td>\n",
              "      <td>0.061091</td>\n",
              "      <td>0.066393</td>\n",
              "      <td>...</td>\n",
              "      <td>0.057389</td>\n",
              "      <td>0.057147</td>\n",
              "      <td>0.055696</td>\n",
              "      <td>0.044218</td>\n",
              "      <td>0.045148</td>\n",
              "      <td>0.046060</td>\n",
              "      <td>0.044125</td>\n",
              "      <td>0.036759</td>\n",
              "      <td>0.044869</td>\n",
              "      <td>0.050655</td>\n",
              "    </tr>\n",
              "    <tr>\n",
              "      <th>1</th>\n",
              "      <td>0.097012</td>\n",
              "      <td>0.094334</td>\n",
              "      <td>0.091562</td>\n",
              "      <td>0.079842</td>\n",
              "      <td>0.064328</td>\n",
              "      <td>0.058542</td>\n",
              "      <td>0.065686</td>\n",
              "      <td>0.061091</td>\n",
              "      <td>0.066393</td>\n",
              "      <td>0.061426</td>\n",
              "      <td>...</td>\n",
              "      <td>0.057147</td>\n",
              "      <td>0.055696</td>\n",
              "      <td>0.044218</td>\n",
              "      <td>0.045148</td>\n",
              "      <td>0.046060</td>\n",
              "      <td>0.044125</td>\n",
              "      <td>0.036759</td>\n",
              "      <td>0.044869</td>\n",
              "      <td>0.050655</td>\n",
              "      <td>0.052143</td>\n",
              "    </tr>\n",
              "    <tr>\n",
              "      <th>2</th>\n",
              "      <td>0.094334</td>\n",
              "      <td>0.091562</td>\n",
              "      <td>0.079842</td>\n",
              "      <td>0.064328</td>\n",
              "      <td>0.058542</td>\n",
              "      <td>0.065686</td>\n",
              "      <td>0.061091</td>\n",
              "      <td>0.066393</td>\n",
              "      <td>0.061426</td>\n",
              "      <td>0.074745</td>\n",
              "      <td>...</td>\n",
              "      <td>0.055696</td>\n",
              "      <td>0.044218</td>\n",
              "      <td>0.045148</td>\n",
              "      <td>0.046060</td>\n",
              "      <td>0.044125</td>\n",
              "      <td>0.036759</td>\n",
              "      <td>0.044869</td>\n",
              "      <td>0.050655</td>\n",
              "      <td>0.052143</td>\n",
              "      <td>0.056124</td>\n",
              "    </tr>\n",
              "    <tr>\n",
              "      <th>3</th>\n",
              "      <td>0.091562</td>\n",
              "      <td>0.079842</td>\n",
              "      <td>0.064328</td>\n",
              "      <td>0.058542</td>\n",
              "      <td>0.065686</td>\n",
              "      <td>0.061091</td>\n",
              "      <td>0.066393</td>\n",
              "      <td>0.061426</td>\n",
              "      <td>0.074745</td>\n",
              "      <td>0.027978</td>\n",
              "      <td>...</td>\n",
              "      <td>0.044218</td>\n",
              "      <td>0.045148</td>\n",
              "      <td>0.046060</td>\n",
              "      <td>0.044125</td>\n",
              "      <td>0.036759</td>\n",
              "      <td>0.044869</td>\n",
              "      <td>0.050655</td>\n",
              "      <td>0.052143</td>\n",
              "      <td>0.056124</td>\n",
              "      <td>0.058189</td>\n",
              "    </tr>\n",
              "    <tr>\n",
              "      <th>4</th>\n",
              "      <td>0.079842</td>\n",
              "      <td>0.064328</td>\n",
              "      <td>0.058542</td>\n",
              "      <td>0.065686</td>\n",
              "      <td>0.061091</td>\n",
              "      <td>0.066393</td>\n",
              "      <td>0.061426</td>\n",
              "      <td>0.074745</td>\n",
              "      <td>0.027978</td>\n",
              "      <td>0.023793</td>\n",
              "      <td>...</td>\n",
              "      <td>0.045148</td>\n",
              "      <td>0.046060</td>\n",
              "      <td>0.044125</td>\n",
              "      <td>0.036759</td>\n",
              "      <td>0.044869</td>\n",
              "      <td>0.050655</td>\n",
              "      <td>0.052143</td>\n",
              "      <td>0.056124</td>\n",
              "      <td>0.058189</td>\n",
              "      <td>0.065407</td>\n",
              "    </tr>\n",
              "    <tr>\n",
              "      <th>...</th>\n",
              "      <td>...</td>\n",
              "      <td>...</td>\n",
              "      <td>...</td>\n",
              "      <td>...</td>\n",
              "      <td>...</td>\n",
              "      <td>...</td>\n",
              "      <td>...</td>\n",
              "      <td>...</td>\n",
              "      <td>...</td>\n",
              "      <td>...</td>\n",
              "      <td>...</td>\n",
              "      <td>...</td>\n",
              "      <td>...</td>\n",
              "      <td>...</td>\n",
              "      <td>...</td>\n",
              "      <td>...</td>\n",
              "      <td>...</td>\n",
              "      <td>...</td>\n",
              "      <td>...</td>\n",
              "      <td>...</td>\n",
              "      <td>...</td>\n",
              "    </tr>\n",
              "    <tr>\n",
              "      <th>1202</th>\n",
              "      <td>0.938760</td>\n",
              "      <td>0.934035</td>\n",
              "      <td>0.934835</td>\n",
              "      <td>0.931394</td>\n",
              "      <td>0.946369</td>\n",
              "      <td>0.965697</td>\n",
              "      <td>0.975110</td>\n",
              "      <td>0.959670</td>\n",
              "      <td>0.978086</td>\n",
              "      <td>1.000000</td>\n",
              "      <td>...</td>\n",
              "      <td>0.917777</td>\n",
              "      <td>0.931766</td>\n",
              "      <td>0.941141</td>\n",
              "      <td>0.957623</td>\n",
              "      <td>0.964134</td>\n",
              "      <td>0.964023</td>\n",
              "      <td>0.969715</td>\n",
              "      <td>0.950778</td>\n",
              "      <td>0.962944</td>\n",
              "      <td>0.961232</td>\n",
              "    </tr>\n",
              "    <tr>\n",
              "      <th>1203</th>\n",
              "      <td>0.934035</td>\n",
              "      <td>0.934835</td>\n",
              "      <td>0.931394</td>\n",
              "      <td>0.946369</td>\n",
              "      <td>0.965697</td>\n",
              "      <td>0.975110</td>\n",
              "      <td>0.959670</td>\n",
              "      <td>0.978086</td>\n",
              "      <td>1.000000</td>\n",
              "      <td>0.980765</td>\n",
              "      <td>...</td>\n",
              "      <td>0.931766</td>\n",
              "      <td>0.941141</td>\n",
              "      <td>0.957623</td>\n",
              "      <td>0.964134</td>\n",
              "      <td>0.964023</td>\n",
              "      <td>0.969715</td>\n",
              "      <td>0.950778</td>\n",
              "      <td>0.962944</td>\n",
              "      <td>0.961232</td>\n",
              "      <td>0.954759</td>\n",
              "    </tr>\n",
              "    <tr>\n",
              "      <th>1204</th>\n",
              "      <td>0.934835</td>\n",
              "      <td>0.931394</td>\n",
              "      <td>0.946369</td>\n",
              "      <td>0.965697</td>\n",
              "      <td>0.975110</td>\n",
              "      <td>0.959670</td>\n",
              "      <td>0.978086</td>\n",
              "      <td>1.000000</td>\n",
              "      <td>0.980765</td>\n",
              "      <td>0.970831</td>\n",
              "      <td>...</td>\n",
              "      <td>0.941141</td>\n",
              "      <td>0.957623</td>\n",
              "      <td>0.964134</td>\n",
              "      <td>0.964023</td>\n",
              "      <td>0.969715</td>\n",
              "      <td>0.950778</td>\n",
              "      <td>0.962944</td>\n",
              "      <td>0.961232</td>\n",
              "      <td>0.954759</td>\n",
              "      <td>0.952043</td>\n",
              "    </tr>\n",
              "    <tr>\n",
              "      <th>1205</th>\n",
              "      <td>0.931394</td>\n",
              "      <td>0.946369</td>\n",
              "      <td>0.965697</td>\n",
              "      <td>0.975110</td>\n",
              "      <td>0.959670</td>\n",
              "      <td>0.978086</td>\n",
              "      <td>1.000000</td>\n",
              "      <td>0.980765</td>\n",
              "      <td>0.970831</td>\n",
              "      <td>0.984504</td>\n",
              "      <td>...</td>\n",
              "      <td>0.957623</td>\n",
              "      <td>0.964134</td>\n",
              "      <td>0.964023</td>\n",
              "      <td>0.969715</td>\n",
              "      <td>0.950778</td>\n",
              "      <td>0.962944</td>\n",
              "      <td>0.961232</td>\n",
              "      <td>0.954759</td>\n",
              "      <td>0.952043</td>\n",
              "      <td>0.951633</td>\n",
              "    </tr>\n",
              "    <tr>\n",
              "      <th>1206</th>\n",
              "      <td>0.946369</td>\n",
              "      <td>0.965697</td>\n",
              "      <td>0.975110</td>\n",
              "      <td>0.959670</td>\n",
              "      <td>0.978086</td>\n",
              "      <td>1.000000</td>\n",
              "      <td>0.980765</td>\n",
              "      <td>0.970831</td>\n",
              "      <td>0.984504</td>\n",
              "      <td>0.960544</td>\n",
              "      <td>...</td>\n",
              "      <td>0.964134</td>\n",
              "      <td>0.964023</td>\n",
              "      <td>0.969715</td>\n",
              "      <td>0.950778</td>\n",
              "      <td>0.962944</td>\n",
              "      <td>0.961232</td>\n",
              "      <td>0.954759</td>\n",
              "      <td>0.952043</td>\n",
              "      <td>0.951633</td>\n",
              "      <td>0.957251</td>\n",
              "    </tr>\n",
              "  </tbody>\n",
              "</table>\n",
              "<p>1207 rows × 50 columns</p>\n",
              "</div>\n",
              "      <button class=\"colab-df-convert\" onclick=\"convertToInteractive('df-03ee80e4-4ac8-417c-8dc1-0edcd9cfcb82')\"\n",
              "              title=\"Convert this dataframe to an interactive table.\"\n",
              "              style=\"display:none;\">\n",
              "        \n",
              "  <svg xmlns=\"http://www.w3.org/2000/svg\" height=\"24px\"viewBox=\"0 0 24 24\"\n",
              "       width=\"24px\">\n",
              "    <path d=\"M0 0h24v24H0V0z\" fill=\"none\"/>\n",
              "    <path d=\"M18.56 5.44l.94 2.06.94-2.06 2.06-.94-2.06-.94-.94-2.06-.94 2.06-2.06.94zm-11 1L8.5 8.5l.94-2.06 2.06-.94-2.06-.94L8.5 2.5l-.94 2.06-2.06.94zm10 10l.94 2.06.94-2.06 2.06-.94-2.06-.94-.94-2.06-.94 2.06-2.06.94z\"/><path d=\"M17.41 7.96l-1.37-1.37c-.4-.4-.92-.59-1.43-.59-.52 0-1.04.2-1.43.59L10.3 9.45l-7.72 7.72c-.78.78-.78 2.05 0 2.83L4 21.41c.39.39.9.59 1.41.59.51 0 1.02-.2 1.41-.59l7.78-7.78 2.81-2.81c.8-.78.8-2.07 0-2.86zM5.41 20L4 18.59l7.72-7.72 1.47 1.35L5.41 20z\"/>\n",
              "  </svg>\n",
              "      </button>\n",
              "      \n",
              "  <style>\n",
              "    .colab-df-container {\n",
              "      display:flex;\n",
              "      flex-wrap:wrap;\n",
              "      gap: 12px;\n",
              "    }\n",
              "\n",
              "    .colab-df-convert {\n",
              "      background-color: #E8F0FE;\n",
              "      border: none;\n",
              "      border-radius: 50%;\n",
              "      cursor: pointer;\n",
              "      display: none;\n",
              "      fill: #1967D2;\n",
              "      height: 32px;\n",
              "      padding: 0 0 0 0;\n",
              "      width: 32px;\n",
              "    }\n",
              "\n",
              "    .colab-df-convert:hover {\n",
              "      background-color: #E2EBFA;\n",
              "      box-shadow: 0px 1px 2px rgba(60, 64, 67, 0.3), 0px 1px 3px 1px rgba(60, 64, 67, 0.15);\n",
              "      fill: #174EA6;\n",
              "    }\n",
              "\n",
              "    [theme=dark] .colab-df-convert {\n",
              "      background-color: #3B4455;\n",
              "      fill: #D2E3FC;\n",
              "    }\n",
              "\n",
              "    [theme=dark] .colab-df-convert:hover {\n",
              "      background-color: #434B5C;\n",
              "      box-shadow: 0px 1px 3px 1px rgba(0, 0, 0, 0.15);\n",
              "      filter: drop-shadow(0px 1px 2px rgba(0, 0, 0, 0.3));\n",
              "      fill: #FFFFFF;\n",
              "    }\n",
              "  </style>\n",
              "\n",
              "      <script>\n",
              "        const buttonEl =\n",
              "          document.querySelector('#df-03ee80e4-4ac8-417c-8dc1-0edcd9cfcb82 button.colab-df-convert');\n",
              "        buttonEl.style.display =\n",
              "          google.colab.kernel.accessAllowed ? 'block' : 'none';\n",
              "\n",
              "        async function convertToInteractive(key) {\n",
              "          const element = document.querySelector('#df-03ee80e4-4ac8-417c-8dc1-0edcd9cfcb82');\n",
              "          const dataTable =\n",
              "            await google.colab.kernel.invokeFunction('convertToInteractive',\n",
              "                                                     [key], {});\n",
              "          if (!dataTable) return;\n",
              "\n",
              "          const docLinkHtml = 'Like what you see? Visit the ' +\n",
              "            '<a target=\"_blank\" href=https://colab.research.google.com/notebooks/data_table.ipynb>data table notebook</a>'\n",
              "            + ' to learn more about interactive tables.';\n",
              "          element.innerHTML = '';\n",
              "          dataTable['output_type'] = 'display_data';\n",
              "          await google.colab.output.renderOutput(dataTable, element);\n",
              "          const docLink = document.createElement('div');\n",
              "          docLink.innerHTML = docLinkHtml;\n",
              "          element.appendChild(docLink);\n",
              "        }\n",
              "      </script>\n",
              "    </div>\n",
              "  </div>\n",
              "  "
            ]
          },
          "metadata": {},
          "execution_count": 188
        }
      ]
    },
    {
      "cell_type": "markdown",
      "source": [
        "we obtained this new dataset which is similar to what we are used to work on in a supervised problem "
      ],
      "metadata": {
        "id": "D8Is45CHJ0yG"
      }
    },
    {
      "cell_type": "code",
      "source": [
        "y_train_frame=pd.DataFrame(data=y_train,columns=['open_price'])\n",
        "y_train_frame.head()"
      ],
      "metadata": {
        "colab": {
          "base_uri": "https://localhost:8080/",
          "height": 206
        },
        "id": "AsquEhXJI3Q9",
        "outputId": "e347e78d-9a26-44c3-873e-cb5073b10cb3"
      },
      "execution_count": 189,
      "outputs": [
        {
          "output_type": "execute_result",
          "data": {
            "text/plain": [
              "   open_price\n",
              "0    0.052143\n",
              "1    0.056124\n",
              "2    0.058189\n",
              "3    0.065407\n",
              "4    0.068830"
            ],
            "text/html": [
              "\n",
              "  <div id=\"df-6c0b1373-ea25-404a-b3bf-d349df3f21b6\">\n",
              "    <div class=\"colab-df-container\">\n",
              "      <div>\n",
              "<style scoped>\n",
              "    .dataframe tbody tr th:only-of-type {\n",
              "        vertical-align: middle;\n",
              "    }\n",
              "\n",
              "    .dataframe tbody tr th {\n",
              "        vertical-align: top;\n",
              "    }\n",
              "\n",
              "    .dataframe thead th {\n",
              "        text-align: right;\n",
              "    }\n",
              "</style>\n",
              "<table border=\"1\" class=\"dataframe\">\n",
              "  <thead>\n",
              "    <tr style=\"text-align: right;\">\n",
              "      <th></th>\n",
              "      <th>open_price</th>\n",
              "    </tr>\n",
              "  </thead>\n",
              "  <tbody>\n",
              "    <tr>\n",
              "      <th>0</th>\n",
              "      <td>0.052143</td>\n",
              "    </tr>\n",
              "    <tr>\n",
              "      <th>1</th>\n",
              "      <td>0.056124</td>\n",
              "    </tr>\n",
              "    <tr>\n",
              "      <th>2</th>\n",
              "      <td>0.058189</td>\n",
              "    </tr>\n",
              "    <tr>\n",
              "      <th>3</th>\n",
              "      <td>0.065407</td>\n",
              "    </tr>\n",
              "    <tr>\n",
              "      <th>4</th>\n",
              "      <td>0.068830</td>\n",
              "    </tr>\n",
              "  </tbody>\n",
              "</table>\n",
              "</div>\n",
              "      <button class=\"colab-df-convert\" onclick=\"convertToInteractive('df-6c0b1373-ea25-404a-b3bf-d349df3f21b6')\"\n",
              "              title=\"Convert this dataframe to an interactive table.\"\n",
              "              style=\"display:none;\">\n",
              "        \n",
              "  <svg xmlns=\"http://www.w3.org/2000/svg\" height=\"24px\"viewBox=\"0 0 24 24\"\n",
              "       width=\"24px\">\n",
              "    <path d=\"M0 0h24v24H0V0z\" fill=\"none\"/>\n",
              "    <path d=\"M18.56 5.44l.94 2.06.94-2.06 2.06-.94-2.06-.94-.94-2.06-.94 2.06-2.06.94zm-11 1L8.5 8.5l.94-2.06 2.06-.94-2.06-.94L8.5 2.5l-.94 2.06-2.06.94zm10 10l.94 2.06.94-2.06 2.06-.94-2.06-.94-.94-2.06-.94 2.06-2.06.94z\"/><path d=\"M17.41 7.96l-1.37-1.37c-.4-.4-.92-.59-1.43-.59-.52 0-1.04.2-1.43.59L10.3 9.45l-7.72 7.72c-.78.78-.78 2.05 0 2.83L4 21.41c.39.39.9.59 1.41.59.51 0 1.02-.2 1.41-.59l7.78-7.78 2.81-2.81c.8-.78.8-2.07 0-2.86zM5.41 20L4 18.59l7.72-7.72 1.47 1.35L5.41 20z\"/>\n",
              "  </svg>\n",
              "      </button>\n",
              "      \n",
              "  <style>\n",
              "    .colab-df-container {\n",
              "      display:flex;\n",
              "      flex-wrap:wrap;\n",
              "      gap: 12px;\n",
              "    }\n",
              "\n",
              "    .colab-df-convert {\n",
              "      background-color: #E8F0FE;\n",
              "      border: none;\n",
              "      border-radius: 50%;\n",
              "      cursor: pointer;\n",
              "      display: none;\n",
              "      fill: #1967D2;\n",
              "      height: 32px;\n",
              "      padding: 0 0 0 0;\n",
              "      width: 32px;\n",
              "    }\n",
              "\n",
              "    .colab-df-convert:hover {\n",
              "      background-color: #E2EBFA;\n",
              "      box-shadow: 0px 1px 2px rgba(60, 64, 67, 0.3), 0px 1px 3px 1px rgba(60, 64, 67, 0.15);\n",
              "      fill: #174EA6;\n",
              "    }\n",
              "\n",
              "    [theme=dark] .colab-df-convert {\n",
              "      background-color: #3B4455;\n",
              "      fill: #D2E3FC;\n",
              "    }\n",
              "\n",
              "    [theme=dark] .colab-df-convert:hover {\n",
              "      background-color: #434B5C;\n",
              "      box-shadow: 0px 1px 3px 1px rgba(0, 0, 0, 0.15);\n",
              "      filter: drop-shadow(0px 1px 2px rgba(0, 0, 0, 0.3));\n",
              "      fill: #FFFFFF;\n",
              "    }\n",
              "  </style>\n",
              "\n",
              "      <script>\n",
              "        const buttonEl =\n",
              "          document.querySelector('#df-6c0b1373-ea25-404a-b3bf-d349df3f21b6 button.colab-df-convert');\n",
              "        buttonEl.style.display =\n",
              "          google.colab.kernel.accessAllowed ? 'block' : 'none';\n",
              "\n",
              "        async function convertToInteractive(key) {\n",
              "          const element = document.querySelector('#df-6c0b1373-ea25-404a-b3bf-d349df3f21b6');\n",
              "          const dataTable =\n",
              "            await google.colab.kernel.invokeFunction('convertToInteractive',\n",
              "                                                     [key], {});\n",
              "          if (!dataTable) return;\n",
              "\n",
              "          const docLinkHtml = 'Like what you see? Visit the ' +\n",
              "            '<a target=\"_blank\" href=https://colab.research.google.com/notebooks/data_table.ipynb>data table notebook</a>'\n",
              "            + ' to learn more about interactive tables.';\n",
              "          element.innerHTML = '';\n",
              "          dataTable['output_type'] = 'display_data';\n",
              "          await google.colab.output.renderOutput(dataTable, element);\n",
              "          const docLink = document.createElement('div');\n",
              "          docLink.innerHTML = docLinkHtml;\n",
              "          element.appendChild(docLink);\n",
              "        }\n",
              "      </script>\n",
              "    </div>\n",
              "  </div>\n",
              "  "
            ]
          },
          "metadata": {},
          "execution_count": 189
        }
      ]
    },
    {
      "cell_type": "code",
      "source": [
        "print('the shape of the new train \\n',shift.shape)\n",
        "print('the shape of the target \\n',y_train_frame.shape)"
      ],
      "metadata": {
        "colab": {
          "base_uri": "https://localhost:8080/"
        },
        "id": "Ezm0rqdfM-SX",
        "outputId": "1f2cb904-5004-4be9-9efb-10b589fa8bd7"
      },
      "execution_count": 190,
      "outputs": [
        {
          "output_type": "stream",
          "name": "stdout",
          "text": [
            "the shape of the new train \n",
            " (1208, 50)\n",
            "the shape of the target \n",
            " (1208, 1)\n"
          ]
        }
      ]
    },
    {
      "cell_type": "markdown",
      "source": [
        "### Google stock price is highly corrolated to other companies stock prices according to researchs that's why we try to add it as new feature to the dataset"
      ],
      "metadata": {
        "id": "Y8Sj0W8OiAEk"
      }
    },
    {
      "cell_type": "code",
      "source": [
        "motorola_data=pd.read_csv('/content/MacroTrends_Data_Download_MSFT.csv')\n",
        "motorola_data.head()"
      ],
      "metadata": {
        "colab": {
          "base_uri": "https://localhost:8080/",
          "height": 206
        },
        "id": "48YPSGgYX_5n",
        "outputId": "4b68d928-df67-4ef7-c329-9938f6ed273f"
      },
      "execution_count": 192,
      "outputs": [
        {
          "output_type": "execute_result",
          "data": {
            "text/plain": [
              "         date    open    high     low   close      volume\n",
              "0  1986-03-13  0.0558  0.0641  0.0558  0.0613  1031788800\n",
              "1  1986-03-14  0.0613  0.0646  0.0613  0.0635   308160000\n",
              "2  1986-03-17  0.0635  0.0651  0.0635  0.0646   133171200\n",
              "3  1986-03-18  0.0646  0.0651  0.0624  0.0630    67766400\n",
              "4  1986-03-19  0.0630  0.0635  0.0613  0.0619    47894400"
            ],
            "text/html": [
              "\n",
              "  <div id=\"df-2d638947-fca4-4392-832b-546811cea34a\">\n",
              "    <div class=\"colab-df-container\">\n",
              "      <div>\n",
              "<style scoped>\n",
              "    .dataframe tbody tr th:only-of-type {\n",
              "        vertical-align: middle;\n",
              "    }\n",
              "\n",
              "    .dataframe tbody tr th {\n",
              "        vertical-align: top;\n",
              "    }\n",
              "\n",
              "    .dataframe thead th {\n",
              "        text-align: right;\n",
              "    }\n",
              "</style>\n",
              "<table border=\"1\" class=\"dataframe\">\n",
              "  <thead>\n",
              "    <tr style=\"text-align: right;\">\n",
              "      <th></th>\n",
              "      <th>date</th>\n",
              "      <th>open</th>\n",
              "      <th>high</th>\n",
              "      <th>low</th>\n",
              "      <th>close</th>\n",
              "      <th>volume</th>\n",
              "    </tr>\n",
              "  </thead>\n",
              "  <tbody>\n",
              "    <tr>\n",
              "      <th>0</th>\n",
              "      <td>1986-03-13</td>\n",
              "      <td>0.0558</td>\n",
              "      <td>0.0641</td>\n",
              "      <td>0.0558</td>\n",
              "      <td>0.0613</td>\n",
              "      <td>1031788800</td>\n",
              "    </tr>\n",
              "    <tr>\n",
              "      <th>1</th>\n",
              "      <td>1986-03-14</td>\n",
              "      <td>0.0613</td>\n",
              "      <td>0.0646</td>\n",
              "      <td>0.0613</td>\n",
              "      <td>0.0635</td>\n",
              "      <td>308160000</td>\n",
              "    </tr>\n",
              "    <tr>\n",
              "      <th>2</th>\n",
              "      <td>1986-03-17</td>\n",
              "      <td>0.0635</td>\n",
              "      <td>0.0651</td>\n",
              "      <td>0.0635</td>\n",
              "      <td>0.0646</td>\n",
              "      <td>133171200</td>\n",
              "    </tr>\n",
              "    <tr>\n",
              "      <th>3</th>\n",
              "      <td>1986-03-18</td>\n",
              "      <td>0.0646</td>\n",
              "      <td>0.0651</td>\n",
              "      <td>0.0624</td>\n",
              "      <td>0.0630</td>\n",
              "      <td>67766400</td>\n",
              "    </tr>\n",
              "    <tr>\n",
              "      <th>4</th>\n",
              "      <td>1986-03-19</td>\n",
              "      <td>0.0630</td>\n",
              "      <td>0.0635</td>\n",
              "      <td>0.0613</td>\n",
              "      <td>0.0619</td>\n",
              "      <td>47894400</td>\n",
              "    </tr>\n",
              "  </tbody>\n",
              "</table>\n",
              "</div>\n",
              "      <button class=\"colab-df-convert\" onclick=\"convertToInteractive('df-2d638947-fca4-4392-832b-546811cea34a')\"\n",
              "              title=\"Convert this dataframe to an interactive table.\"\n",
              "              style=\"display:none;\">\n",
              "        \n",
              "  <svg xmlns=\"http://www.w3.org/2000/svg\" height=\"24px\"viewBox=\"0 0 24 24\"\n",
              "       width=\"24px\">\n",
              "    <path d=\"M0 0h24v24H0V0z\" fill=\"none\"/>\n",
              "    <path d=\"M18.56 5.44l.94 2.06.94-2.06 2.06-.94-2.06-.94-.94-2.06-.94 2.06-2.06.94zm-11 1L8.5 8.5l.94-2.06 2.06-.94-2.06-.94L8.5 2.5l-.94 2.06-2.06.94zm10 10l.94 2.06.94-2.06 2.06-.94-2.06-.94-.94-2.06-.94 2.06-2.06.94z\"/><path d=\"M17.41 7.96l-1.37-1.37c-.4-.4-.92-.59-1.43-.59-.52 0-1.04.2-1.43.59L10.3 9.45l-7.72 7.72c-.78.78-.78 2.05 0 2.83L4 21.41c.39.39.9.59 1.41.59.51 0 1.02-.2 1.41-.59l7.78-7.78 2.81-2.81c.8-.78.8-2.07 0-2.86zM5.41 20L4 18.59l7.72-7.72 1.47 1.35L5.41 20z\"/>\n",
              "  </svg>\n",
              "      </button>\n",
              "      \n",
              "  <style>\n",
              "    .colab-df-container {\n",
              "      display:flex;\n",
              "      flex-wrap:wrap;\n",
              "      gap: 12px;\n",
              "    }\n",
              "\n",
              "    .colab-df-convert {\n",
              "      background-color: #E8F0FE;\n",
              "      border: none;\n",
              "      border-radius: 50%;\n",
              "      cursor: pointer;\n",
              "      display: none;\n",
              "      fill: #1967D2;\n",
              "      height: 32px;\n",
              "      padding: 0 0 0 0;\n",
              "      width: 32px;\n",
              "    }\n",
              "\n",
              "    .colab-df-convert:hover {\n",
              "      background-color: #E2EBFA;\n",
              "      box-shadow: 0px 1px 2px rgba(60, 64, 67, 0.3), 0px 1px 3px 1px rgba(60, 64, 67, 0.15);\n",
              "      fill: #174EA6;\n",
              "    }\n",
              "\n",
              "    [theme=dark] .colab-df-convert {\n",
              "      background-color: #3B4455;\n",
              "      fill: #D2E3FC;\n",
              "    }\n",
              "\n",
              "    [theme=dark] .colab-df-convert:hover {\n",
              "      background-color: #434B5C;\n",
              "      box-shadow: 0px 1px 3px 1px rgba(0, 0, 0, 0.15);\n",
              "      filter: drop-shadow(0px 1px 2px rgba(0, 0, 0, 0.3));\n",
              "      fill: #FFFFFF;\n",
              "    }\n",
              "  </style>\n",
              "\n",
              "      <script>\n",
              "        const buttonEl =\n",
              "          document.querySelector('#df-2d638947-fca4-4392-832b-546811cea34a button.colab-df-convert');\n",
              "        buttonEl.style.display =\n",
              "          google.colab.kernel.accessAllowed ? 'block' : 'none';\n",
              "\n",
              "        async function convertToInteractive(key) {\n",
              "          const element = document.querySelector('#df-2d638947-fca4-4392-832b-546811cea34a');\n",
              "          const dataTable =\n",
              "            await google.colab.kernel.invokeFunction('convertToInteractive',\n",
              "                                                     [key], {});\n",
              "          if (!dataTable) return;\n",
              "\n",
              "          const docLinkHtml = 'Like what you see? Visit the ' +\n",
              "            '<a target=\"_blank\" href=https://colab.research.google.com/notebooks/data_table.ipynb>data table notebook</a>'\n",
              "            + ' to learn more about interactive tables.';\n",
              "          element.innerHTML = '';\n",
              "          dataTable['output_type'] = 'display_data';\n",
              "          await google.colab.output.renderOutput(dataTable, element);\n",
              "          const docLink = document.createElement('div');\n",
              "          docLink.innerHTML = docLinkHtml;\n",
              "          element.appendChild(docLink);\n",
              "        }\n",
              "      </script>\n",
              "    </div>\n",
              "  </div>\n",
              "  "
            ]
          },
          "metadata": {},
          "execution_count": 192
        }
      ]
    },
    {
      "cell_type": "code",
      "source": [
        "start_date = '2012-01-02'\n",
        "end_date = '2016-12-30'\n",
        "start_test_date='2017-01-02'\n",
        "end_test_date='2017-01-31'\n",
        "# Select DataFrame rows between two dates\n",
        "mask_train = (motorola_data['date'] > start_date) & (motorola_data['date'] <= end_date)\n",
        "mask_test = (motorola_data['date'] > start_test_date) & (motorola_data['date'] <= end_test_date)\n",
        "motorola_train_data = motorola_data.loc[mask_train]\n",
        "motorola_test_data = motorola_data.loc[mask_test]\n",
        "motorola_test_data.head()"
      ],
      "metadata": {
        "colab": {
          "base_uri": "https://localhost:8080/",
          "height": 206
        },
        "id": "WE5eS0sAdAz8",
        "outputId": "f027ea9a-6cd6-424b-8968-c32e7b107b2b"
      },
      "execution_count": 193,
      "outputs": [
        {
          "output_type": "execute_result",
          "data": {
            "text/plain": [
              "            date     open     high      low    close    volume\n",
              "7767  2017-01-03  58.1933  58.2397  57.5770  57.9987  20694101\n",
              "7768  2017-01-04  57.9060  58.1562  57.5724  57.7392  21339969\n",
              "7769  2017-01-05  57.6372  58.0728  57.4890  57.7392  24875968\n",
              "7770  2017-01-06  57.7392  58.5270  57.4982  58.2397  19922919\n",
              "7771  2017-01-09  58.1655  58.4621  57.9616  58.0543  20382730"
            ],
            "text/html": [
              "\n",
              "  <div id=\"df-a1181e03-b02d-4871-b413-11eb5f47cdab\">\n",
              "    <div class=\"colab-df-container\">\n",
              "      <div>\n",
              "<style scoped>\n",
              "    .dataframe tbody tr th:only-of-type {\n",
              "        vertical-align: middle;\n",
              "    }\n",
              "\n",
              "    .dataframe tbody tr th {\n",
              "        vertical-align: top;\n",
              "    }\n",
              "\n",
              "    .dataframe thead th {\n",
              "        text-align: right;\n",
              "    }\n",
              "</style>\n",
              "<table border=\"1\" class=\"dataframe\">\n",
              "  <thead>\n",
              "    <tr style=\"text-align: right;\">\n",
              "      <th></th>\n",
              "      <th>date</th>\n",
              "      <th>open</th>\n",
              "      <th>high</th>\n",
              "      <th>low</th>\n",
              "      <th>close</th>\n",
              "      <th>volume</th>\n",
              "    </tr>\n",
              "  </thead>\n",
              "  <tbody>\n",
              "    <tr>\n",
              "      <th>7767</th>\n",
              "      <td>2017-01-03</td>\n",
              "      <td>58.1933</td>\n",
              "      <td>58.2397</td>\n",
              "      <td>57.5770</td>\n",
              "      <td>57.9987</td>\n",
              "      <td>20694101</td>\n",
              "    </tr>\n",
              "    <tr>\n",
              "      <th>7768</th>\n",
              "      <td>2017-01-04</td>\n",
              "      <td>57.9060</td>\n",
              "      <td>58.1562</td>\n",
              "      <td>57.5724</td>\n",
              "      <td>57.7392</td>\n",
              "      <td>21339969</td>\n",
              "    </tr>\n",
              "    <tr>\n",
              "      <th>7769</th>\n",
              "      <td>2017-01-05</td>\n",
              "      <td>57.6372</td>\n",
              "      <td>58.0728</td>\n",
              "      <td>57.4890</td>\n",
              "      <td>57.7392</td>\n",
              "      <td>24875968</td>\n",
              "    </tr>\n",
              "    <tr>\n",
              "      <th>7770</th>\n",
              "      <td>2017-01-06</td>\n",
              "      <td>57.7392</td>\n",
              "      <td>58.5270</td>\n",
              "      <td>57.4982</td>\n",
              "      <td>58.2397</td>\n",
              "      <td>19922919</td>\n",
              "    </tr>\n",
              "    <tr>\n",
              "      <th>7771</th>\n",
              "      <td>2017-01-09</td>\n",
              "      <td>58.1655</td>\n",
              "      <td>58.4621</td>\n",
              "      <td>57.9616</td>\n",
              "      <td>58.0543</td>\n",
              "      <td>20382730</td>\n",
              "    </tr>\n",
              "  </tbody>\n",
              "</table>\n",
              "</div>\n",
              "      <button class=\"colab-df-convert\" onclick=\"convertToInteractive('df-a1181e03-b02d-4871-b413-11eb5f47cdab')\"\n",
              "              title=\"Convert this dataframe to an interactive table.\"\n",
              "              style=\"display:none;\">\n",
              "        \n",
              "  <svg xmlns=\"http://www.w3.org/2000/svg\" height=\"24px\"viewBox=\"0 0 24 24\"\n",
              "       width=\"24px\">\n",
              "    <path d=\"M0 0h24v24H0V0z\" fill=\"none\"/>\n",
              "    <path d=\"M18.56 5.44l.94 2.06.94-2.06 2.06-.94-2.06-.94-.94-2.06-.94 2.06-2.06.94zm-11 1L8.5 8.5l.94-2.06 2.06-.94-2.06-.94L8.5 2.5l-.94 2.06-2.06.94zm10 10l.94 2.06.94-2.06 2.06-.94-2.06-.94-.94-2.06-.94 2.06-2.06.94z\"/><path d=\"M17.41 7.96l-1.37-1.37c-.4-.4-.92-.59-1.43-.59-.52 0-1.04.2-1.43.59L10.3 9.45l-7.72 7.72c-.78.78-.78 2.05 0 2.83L4 21.41c.39.39.9.59 1.41.59.51 0 1.02-.2 1.41-.59l7.78-7.78 2.81-2.81c.8-.78.8-2.07 0-2.86zM5.41 20L4 18.59l7.72-7.72 1.47 1.35L5.41 20z\"/>\n",
              "  </svg>\n",
              "      </button>\n",
              "      \n",
              "  <style>\n",
              "    .colab-df-container {\n",
              "      display:flex;\n",
              "      flex-wrap:wrap;\n",
              "      gap: 12px;\n",
              "    }\n",
              "\n",
              "    .colab-df-convert {\n",
              "      background-color: #E8F0FE;\n",
              "      border: none;\n",
              "      border-radius: 50%;\n",
              "      cursor: pointer;\n",
              "      display: none;\n",
              "      fill: #1967D2;\n",
              "      height: 32px;\n",
              "      padding: 0 0 0 0;\n",
              "      width: 32px;\n",
              "    }\n",
              "\n",
              "    .colab-df-convert:hover {\n",
              "      background-color: #E2EBFA;\n",
              "      box-shadow: 0px 1px 2px rgba(60, 64, 67, 0.3), 0px 1px 3px 1px rgba(60, 64, 67, 0.15);\n",
              "      fill: #174EA6;\n",
              "    }\n",
              "\n",
              "    [theme=dark] .colab-df-convert {\n",
              "      background-color: #3B4455;\n",
              "      fill: #D2E3FC;\n",
              "    }\n",
              "\n",
              "    [theme=dark] .colab-df-convert:hover {\n",
              "      background-color: #434B5C;\n",
              "      box-shadow: 0px 1px 3px 1px rgba(0, 0, 0, 0.15);\n",
              "      filter: drop-shadow(0px 1px 2px rgba(0, 0, 0, 0.3));\n",
              "      fill: #FFFFFF;\n",
              "    }\n",
              "  </style>\n",
              "\n",
              "      <script>\n",
              "        const buttonEl =\n",
              "          document.querySelector('#df-a1181e03-b02d-4871-b413-11eb5f47cdab button.colab-df-convert');\n",
              "        buttonEl.style.display =\n",
              "          google.colab.kernel.accessAllowed ? 'block' : 'none';\n",
              "\n",
              "        async function convertToInteractive(key) {\n",
              "          const element = document.querySelector('#df-a1181e03-b02d-4871-b413-11eb5f47cdab');\n",
              "          const dataTable =\n",
              "            await google.colab.kernel.invokeFunction('convertToInteractive',\n",
              "                                                     [key], {});\n",
              "          if (!dataTable) return;\n",
              "\n",
              "          const docLinkHtml = 'Like what you see? Visit the ' +\n",
              "            '<a target=\"_blank\" href=https://colab.research.google.com/notebooks/data_table.ipynb>data table notebook</a>'\n",
              "            + ' to learn more about interactive tables.';\n",
              "          element.innerHTML = '';\n",
              "          dataTable['output_type'] = 'display_data';\n",
              "          await google.colab.output.renderOutput(dataTable, element);\n",
              "          const docLink = document.createElement('div');\n",
              "          docLink.innerHTML = docLinkHtml;\n",
              "          element.appendChild(docLink);\n",
              "        }\n",
              "      </script>\n",
              "    </div>\n",
              "  </div>\n",
              "  "
            ]
          },
          "metadata": {},
          "execution_count": 193
        }
      ]
    },
    {
      "cell_type": "code",
      "source": [
        "print('the shape of the train \\n',motorola_train_data.shape)\n",
        "print('the shape of the test \\n',motorola_test_data.shape)"
      ],
      "metadata": {
        "colab": {
          "base_uri": "https://localhost:8080/"
        },
        "id": "V-0pNyMsfQYC",
        "outputId": "7a709844-54a2-4c60-9f26-cdd60b3fbedc"
      },
      "execution_count": 194,
      "outputs": [
        {
          "output_type": "stream",
          "name": "stdout",
          "text": [
            "the shape of the train \n",
            " (1258, 6)\n",
            "the shape of the test \n",
            " (20, 6)\n"
          ]
        }
      ]
    },
    {
      "cell_type": "code",
      "source": [
        "motorola_train_set=motorola_train_data.iloc[:,1:2].values"
      ],
      "metadata": {
        "id": "GhhEyZ5zipA0"
      },
      "execution_count": 195,
      "outputs": []
    },
    {
      "cell_type": "code",
      "source": [
        "motorola_train_set_scaled = scaler.fit_transform(motorola_train_set)"
      ],
      "metadata": {
        "id": "q7J680rqiZl1"
      },
      "execution_count": 196,
      "outputs": []
    },
    {
      "cell_type": "code",
      "source": [
        "Shift_motorola_train=[]\n",
        "m=len(motorola_train_set_scaled)\n",
        "for i in range (TS,m) : \n",
        "  Shift_train.append(train_set_scaled[i-TS:i,0])\n",
        "  "
      ],
      "metadata": {
        "id": "LepiJHgsgHYh"
      },
      "execution_count": 197,
      "outputs": []
    },
    {
      "cell_type": "code",
      "source": [
        "shift_motorola=pd.DataFrame(data=Shift_train)\n",
        "shift_motorola.head()"
      ],
      "metadata": {
        "colab": {
          "base_uri": "https://localhost:8080/",
          "height": 300
        },
        "id": "qokM9CyJi29e",
        "outputId": "d794f655-839f-482c-e40c-e2e1a4073e8c"
      },
      "execution_count": 198,
      "outputs": [
        {
          "output_type": "execute_result",
          "data": {
            "text/plain": [
              "         0         1         2         3         4         5         6   \\\n",
              "0  0.085814  0.097012  0.094334  0.091562  0.079842  0.064328  0.058542   \n",
              "1  0.097012  0.094334  0.091562  0.079842  0.064328  0.058542  0.065686   \n",
              "2  0.094334  0.091562  0.079842  0.064328  0.058542  0.065686  0.061091   \n",
              "3  0.091562  0.079842  0.064328  0.058542  0.065686  0.061091  0.066393   \n",
              "4  0.079842  0.064328  0.058542  0.065686  0.061091  0.066393  0.061426   \n",
              "\n",
              "         7         8         9   ...        40        41        42        43  \\\n",
              "0  0.065686  0.061091  0.066393  ...  0.057389  0.057147  0.055696  0.044218   \n",
              "1  0.061091  0.066393  0.061426  ...  0.057147  0.055696  0.044218  0.045148   \n",
              "2  0.066393  0.061426  0.074745  ...  0.055696  0.044218  0.045148  0.046060   \n",
              "3  0.061426  0.074745  0.027978  ...  0.044218  0.045148  0.046060  0.044125   \n",
              "4  0.074745  0.027978  0.023793  ...  0.045148  0.046060  0.044125  0.036759   \n",
              "\n",
              "         44        45        46        47        48        49  \n",
              "0  0.045148  0.046060  0.044125  0.036759  0.044869  0.050655  \n",
              "1  0.046060  0.044125  0.036759  0.044869  0.050655  0.052143  \n",
              "2  0.044125  0.036759  0.044869  0.050655  0.052143  0.056124  \n",
              "3  0.036759  0.044869  0.050655  0.052143  0.056124  0.058189  \n",
              "4  0.044869  0.050655  0.052143  0.056124  0.058189  0.065407  \n",
              "\n",
              "[5 rows x 50 columns]"
            ],
            "text/html": [
              "\n",
              "  <div id=\"df-4722baf6-6e86-4015-ba5a-a0842495e8c7\">\n",
              "    <div class=\"colab-df-container\">\n",
              "      <div>\n",
              "<style scoped>\n",
              "    .dataframe tbody tr th:only-of-type {\n",
              "        vertical-align: middle;\n",
              "    }\n",
              "\n",
              "    .dataframe tbody tr th {\n",
              "        vertical-align: top;\n",
              "    }\n",
              "\n",
              "    .dataframe thead th {\n",
              "        text-align: right;\n",
              "    }\n",
              "</style>\n",
              "<table border=\"1\" class=\"dataframe\">\n",
              "  <thead>\n",
              "    <tr style=\"text-align: right;\">\n",
              "      <th></th>\n",
              "      <th>0</th>\n",
              "      <th>1</th>\n",
              "      <th>2</th>\n",
              "      <th>3</th>\n",
              "      <th>4</th>\n",
              "      <th>5</th>\n",
              "      <th>6</th>\n",
              "      <th>7</th>\n",
              "      <th>8</th>\n",
              "      <th>9</th>\n",
              "      <th>...</th>\n",
              "      <th>40</th>\n",
              "      <th>41</th>\n",
              "      <th>42</th>\n",
              "      <th>43</th>\n",
              "      <th>44</th>\n",
              "      <th>45</th>\n",
              "      <th>46</th>\n",
              "      <th>47</th>\n",
              "      <th>48</th>\n",
              "      <th>49</th>\n",
              "    </tr>\n",
              "  </thead>\n",
              "  <tbody>\n",
              "    <tr>\n",
              "      <th>0</th>\n",
              "      <td>0.085814</td>\n",
              "      <td>0.097012</td>\n",
              "      <td>0.094334</td>\n",
              "      <td>0.091562</td>\n",
              "      <td>0.079842</td>\n",
              "      <td>0.064328</td>\n",
              "      <td>0.058542</td>\n",
              "      <td>0.065686</td>\n",
              "      <td>0.061091</td>\n",
              "      <td>0.066393</td>\n",
              "      <td>...</td>\n",
              "      <td>0.057389</td>\n",
              "      <td>0.057147</td>\n",
              "      <td>0.055696</td>\n",
              "      <td>0.044218</td>\n",
              "      <td>0.045148</td>\n",
              "      <td>0.046060</td>\n",
              "      <td>0.044125</td>\n",
              "      <td>0.036759</td>\n",
              "      <td>0.044869</td>\n",
              "      <td>0.050655</td>\n",
              "    </tr>\n",
              "    <tr>\n",
              "      <th>1</th>\n",
              "      <td>0.097012</td>\n",
              "      <td>0.094334</td>\n",
              "      <td>0.091562</td>\n",
              "      <td>0.079842</td>\n",
              "      <td>0.064328</td>\n",
              "      <td>0.058542</td>\n",
              "      <td>0.065686</td>\n",
              "      <td>0.061091</td>\n",
              "      <td>0.066393</td>\n",
              "      <td>0.061426</td>\n",
              "      <td>...</td>\n",
              "      <td>0.057147</td>\n",
              "      <td>0.055696</td>\n",
              "      <td>0.044218</td>\n",
              "      <td>0.045148</td>\n",
              "      <td>0.046060</td>\n",
              "      <td>0.044125</td>\n",
              "      <td>0.036759</td>\n",
              "      <td>0.044869</td>\n",
              "      <td>0.050655</td>\n",
              "      <td>0.052143</td>\n",
              "    </tr>\n",
              "    <tr>\n",
              "      <th>2</th>\n",
              "      <td>0.094334</td>\n",
              "      <td>0.091562</td>\n",
              "      <td>0.079842</td>\n",
              "      <td>0.064328</td>\n",
              "      <td>0.058542</td>\n",
              "      <td>0.065686</td>\n",
              "      <td>0.061091</td>\n",
              "      <td>0.066393</td>\n",
              "      <td>0.061426</td>\n",
              "      <td>0.074745</td>\n",
              "      <td>...</td>\n",
              "      <td>0.055696</td>\n",
              "      <td>0.044218</td>\n",
              "      <td>0.045148</td>\n",
              "      <td>0.046060</td>\n",
              "      <td>0.044125</td>\n",
              "      <td>0.036759</td>\n",
              "      <td>0.044869</td>\n",
              "      <td>0.050655</td>\n",
              "      <td>0.052143</td>\n",
              "      <td>0.056124</td>\n",
              "    </tr>\n",
              "    <tr>\n",
              "      <th>3</th>\n",
              "      <td>0.091562</td>\n",
              "      <td>0.079842</td>\n",
              "      <td>0.064328</td>\n",
              "      <td>0.058542</td>\n",
              "      <td>0.065686</td>\n",
              "      <td>0.061091</td>\n",
              "      <td>0.066393</td>\n",
              "      <td>0.061426</td>\n",
              "      <td>0.074745</td>\n",
              "      <td>0.027978</td>\n",
              "      <td>...</td>\n",
              "      <td>0.044218</td>\n",
              "      <td>0.045148</td>\n",
              "      <td>0.046060</td>\n",
              "      <td>0.044125</td>\n",
              "      <td>0.036759</td>\n",
              "      <td>0.044869</td>\n",
              "      <td>0.050655</td>\n",
              "      <td>0.052143</td>\n",
              "      <td>0.056124</td>\n",
              "      <td>0.058189</td>\n",
              "    </tr>\n",
              "    <tr>\n",
              "      <th>4</th>\n",
              "      <td>0.079842</td>\n",
              "      <td>0.064328</td>\n",
              "      <td>0.058542</td>\n",
              "      <td>0.065686</td>\n",
              "      <td>0.061091</td>\n",
              "      <td>0.066393</td>\n",
              "      <td>0.061426</td>\n",
              "      <td>0.074745</td>\n",
              "      <td>0.027978</td>\n",
              "      <td>0.023793</td>\n",
              "      <td>...</td>\n",
              "      <td>0.045148</td>\n",
              "      <td>0.046060</td>\n",
              "      <td>0.044125</td>\n",
              "      <td>0.036759</td>\n",
              "      <td>0.044869</td>\n",
              "      <td>0.050655</td>\n",
              "      <td>0.052143</td>\n",
              "      <td>0.056124</td>\n",
              "      <td>0.058189</td>\n",
              "      <td>0.065407</td>\n",
              "    </tr>\n",
              "  </tbody>\n",
              "</table>\n",
              "<p>5 rows × 50 columns</p>\n",
              "</div>\n",
              "      <button class=\"colab-df-convert\" onclick=\"convertToInteractive('df-4722baf6-6e86-4015-ba5a-a0842495e8c7')\"\n",
              "              title=\"Convert this dataframe to an interactive table.\"\n",
              "              style=\"display:none;\">\n",
              "        \n",
              "  <svg xmlns=\"http://www.w3.org/2000/svg\" height=\"24px\"viewBox=\"0 0 24 24\"\n",
              "       width=\"24px\">\n",
              "    <path d=\"M0 0h24v24H0V0z\" fill=\"none\"/>\n",
              "    <path d=\"M18.56 5.44l.94 2.06.94-2.06 2.06-.94-2.06-.94-.94-2.06-.94 2.06-2.06.94zm-11 1L8.5 8.5l.94-2.06 2.06-.94-2.06-.94L8.5 2.5l-.94 2.06-2.06.94zm10 10l.94 2.06.94-2.06 2.06-.94-2.06-.94-.94-2.06-.94 2.06-2.06.94z\"/><path d=\"M17.41 7.96l-1.37-1.37c-.4-.4-.92-.59-1.43-.59-.52 0-1.04.2-1.43.59L10.3 9.45l-7.72 7.72c-.78.78-.78 2.05 0 2.83L4 21.41c.39.39.9.59 1.41.59.51 0 1.02-.2 1.41-.59l7.78-7.78 2.81-2.81c.8-.78.8-2.07 0-2.86zM5.41 20L4 18.59l7.72-7.72 1.47 1.35L5.41 20z\"/>\n",
              "  </svg>\n",
              "      </button>\n",
              "      \n",
              "  <style>\n",
              "    .colab-df-container {\n",
              "      display:flex;\n",
              "      flex-wrap:wrap;\n",
              "      gap: 12px;\n",
              "    }\n",
              "\n",
              "    .colab-df-convert {\n",
              "      background-color: #E8F0FE;\n",
              "      border: none;\n",
              "      border-radius: 50%;\n",
              "      cursor: pointer;\n",
              "      display: none;\n",
              "      fill: #1967D2;\n",
              "      height: 32px;\n",
              "      padding: 0 0 0 0;\n",
              "      width: 32px;\n",
              "    }\n",
              "\n",
              "    .colab-df-convert:hover {\n",
              "      background-color: #E2EBFA;\n",
              "      box-shadow: 0px 1px 2px rgba(60, 64, 67, 0.3), 0px 1px 3px 1px rgba(60, 64, 67, 0.15);\n",
              "      fill: #174EA6;\n",
              "    }\n",
              "\n",
              "    [theme=dark] .colab-df-convert {\n",
              "      background-color: #3B4455;\n",
              "      fill: #D2E3FC;\n",
              "    }\n",
              "\n",
              "    [theme=dark] .colab-df-convert:hover {\n",
              "      background-color: #434B5C;\n",
              "      box-shadow: 0px 1px 3px 1px rgba(0, 0, 0, 0.15);\n",
              "      filter: drop-shadow(0px 1px 2px rgba(0, 0, 0, 0.3));\n",
              "      fill: #FFFFFF;\n",
              "    }\n",
              "  </style>\n",
              "\n",
              "      <script>\n",
              "        const buttonEl =\n",
              "          document.querySelector('#df-4722baf6-6e86-4015-ba5a-a0842495e8c7 button.colab-df-convert');\n",
              "        buttonEl.style.display =\n",
              "          google.colab.kernel.accessAllowed ? 'block' : 'none';\n",
              "\n",
              "        async function convertToInteractive(key) {\n",
              "          const element = document.querySelector('#df-4722baf6-6e86-4015-ba5a-a0842495e8c7');\n",
              "          const dataTable =\n",
              "            await google.colab.kernel.invokeFunction('convertToInteractive',\n",
              "                                                     [key], {});\n",
              "          if (!dataTable) return;\n",
              "\n",
              "          const docLinkHtml = 'Like what you see? Visit the ' +\n",
              "            '<a target=\"_blank\" href=https://colab.research.google.com/notebooks/data_table.ipynb>data table notebook</a>'\n",
              "            + ' to learn more about interactive tables.';\n",
              "          element.innerHTML = '';\n",
              "          dataTable['output_type'] = 'display_data';\n",
              "          await google.colab.output.renderOutput(dataTable, element);\n",
              "          const docLink = document.createElement('div');\n",
              "          docLink.innerHTML = docLinkHtml;\n",
              "          element.appendChild(docLink);\n",
              "        }\n",
              "      </script>\n",
              "    </div>\n",
              "  </div>\n",
              "  "
            ]
          },
          "metadata": {},
          "execution_count": 198
        }
      ]
    },
    {
      "cell_type": "code",
      "source": [
        "X=pd.concat([shift,shift_motorola],axis=1,ignore_index=True)"
      ],
      "metadata": {
        "id": "ovUKf-3Ui93i"
      },
      "execution_count": 199,
      "outputs": []
    },
    {
      "cell_type": "code",
      "source": [
        "X=X.iloc[:1208,:]"
      ],
      "metadata": {
        "id": "g7HfQkXPjisp"
      },
      "execution_count": 200,
      "outputs": []
    },
    {
      "cell_type": "code",
      "source": [
        "print('the shape of the new train \\n',X.shape)\n",
        "print('the shape of the target \\n',y_train_frame.shape)"
      ],
      "metadata": {
        "colab": {
          "base_uri": "https://localhost:8080/"
        },
        "id": "Rv8tSxIuktTF",
        "outputId": "8eb6c1a3-36cc-4a8c-99d3-89f79ee2f2ea"
      },
      "execution_count": 201,
      "outputs": [
        {
          "output_type": "stream",
          "name": "stdout",
          "text": [
            "the shape of the new train \n",
            " (1208, 100)\n",
            "the shape of the target \n",
            " (1208, 1)\n"
          ]
        }
      ]
    },
    {
      "cell_type": "code",
      "source": [
        "motorola_test_set=motorola_test_data.iloc[:,1:2].values"
      ],
      "metadata": {
        "id": "Zs6HPInt65o5"
      },
      "execution_count": 202,
      "outputs": []
    },
    {
      "cell_type": "code",
      "source": [
        "motorola_test_set_scaled = scaler.fit_transform(motorola_test_set)"
      ],
      "metadata": {
        "id": "MGop6Ae368v_"
      },
      "execution_count": 203,
      "outputs": []
    },
    {
      "cell_type": "code",
      "source": [
        "test_set_begin=test.iloc[:,1:2].values"
      ],
      "metadata": {
        "id": "d5slHg-i7kta"
      },
      "execution_count": 204,
      "outputs": []
    },
    {
      "cell_type": "code",
      "source": [
        "test_set_begin_scaled = scaler.fit_transform(test_set_begin)"
      ],
      "metadata": {
        "id": "kXbzIgxx70t9"
      },
      "execution_count": 205,
      "outputs": []
    },
    {
      "cell_type": "code",
      "source": [
        "motorola_test_set_scaled=pd.DataFrame(motorola_test_set_scaled)\n",
        "test_set_begin_scaled=pd.DataFrame(test_set_begin_scaled)"
      ],
      "metadata": {
        "id": "SSSco-1r-3Qc"
      },
      "execution_count": 206,
      "outputs": []
    },
    {
      "cell_type": "code",
      "source": [
        "X_test_fianl=pd.concat([test_set_begin_scaled,motorola_test_set_scaled],axis=1,ignore_index=True)"
      ],
      "metadata": {
        "id": "alTY-cRc-xNm"
      },
      "execution_count": 207,
      "outputs": []
    },
    {
      "cell_type": "code",
      "source": [
        "print('the shape of the new test \\n',X_test_fianl.shape)"
      ],
      "metadata": {
        "colab": {
          "base_uri": "https://localhost:8080/"
        },
        "id": "m5_TnScA--3r",
        "outputId": "7864209f-679d-4bb8-8e4f-f4f00076330c"
      },
      "execution_count": 208,
      "outputs": [
        {
          "output_type": "stream",
          "name": "stdout",
          "text": [
            "the shape of the new test \n",
            " (20, 2)\n"
          ]
        }
      ]
    },
    {
      "cell_type": "code",
      "source": [
        "from sklearn.decomposition import PCA\n",
        "pca = PCA(n_components=50)\n",
        "X = pca.fit_transform(X)"
      ],
      "metadata": {
        "id": "CANUIf64D1cg"
      },
      "execution_count": 209,
      "outputs": []
    },
    {
      "cell_type": "markdown",
      "source": [
        "### Data reshaping in order to get the best input shape for the RNN "
      ],
      "metadata": {
        "id": "dDBhNWpble00"
      }
    },
    {
      "cell_type": "code",
      "source": [
        "#gX = X.to_numpy()"
      ],
      "metadata": {
        "id": "WaZIrkZemAjN"
      },
      "execution_count": 210,
      "outputs": []
    },
    {
      "cell_type": "code",
      "source": [
        "XX=np.copy(X)"
      ],
      "metadata": {
        "id": "KcvOvWKrIYdK"
      },
      "execution_count": 211,
      "outputs": []
    },
    {
      "cell_type": "code",
      "source": [
        "XX.shape"
      ],
      "metadata": {
        "colab": {
          "base_uri": "https://localhost:8080/"
        },
        "id": "ebmv5ggNIom3",
        "outputId": "61fb2e1c-e69d-407e-c83e-7f98ea70a0d4"
      },
      "execution_count": 212,
      "outputs": [
        {
          "output_type": "execute_result",
          "data": {
            "text/plain": [
              "(1208, 50)"
            ]
          },
          "metadata": {},
          "execution_count": 212
        }
      ]
    },
    {
      "cell_type": "code",
      "source": [
        "X = np.reshape(X, (X.shape[0], X.shape[1], 1))"
      ],
      "metadata": {
        "id": "z8tfe2Omk9Wr"
      },
      "execution_count": 213,
      "outputs": []
    },
    {
      "cell_type": "code",
      "source": [
        "X.shape"
      ],
      "metadata": {
        "colab": {
          "base_uri": "https://localhost:8080/"
        },
        "id": "1_YkFEjN3mLv",
        "outputId": "95831a45-9604-47e5-deaa-5d73a208bdd3"
      },
      "execution_count": 214,
      "outputs": [
        {
          "output_type": "execute_result",
          "data": {
            "text/plain": [
              "(1208, 50, 1)"
            ]
          },
          "metadata": {},
          "execution_count": 214
        }
      ]
    },
    {
      "cell_type": "code",
      "source": [
        "import numpy as np\n",
        "from matplotlib import pyplot as plt\n",
        "plt.rcParams[\"figure.figsize\"] = [7.00, 3.50]\n",
        "plt.rcParams[\"figure.autolayout\"] = True\n",
        "fig = plt.figure()\n",
        "ax = fig.add_subplot(111, projection='3d')\n",
        "for i in range (15,25,1) :\n",
        "  ax.scatter(X, alpha=1,ys=i)\n",
        "plt.show()"
      ],
      "metadata": {
        "colab": {
          "base_uri": "https://localhost:8080/",
          "height": 261
        },
        "id": "58RNIQEpltDy",
        "outputId": "2fd62c2f-5a71-435f-8ec4-fe444a05ef06"
      },
      "execution_count": 215,
      "outputs": [
        {
          "output_type": "display_data",
          "data": {
            "text/plain": [
              "<Figure size 504x252 with 1 Axes>"
            ],
            "image/png": "[encoded data removed]"
          },
          "metadata": {
            "needs_background": "light"
          }
        }
      ]
    },
    {
      "cell_type": "markdown",
      "source": [
        "## RNN implementation and Training"
      ],
      "metadata": {
        "id": "mSYoVdCpRBp3"
      }
    },
    {
      "cell_type": "code",
      "source": [
        "import tensorflow as tf \n",
        "print ('tensorflow version is ',tf.__version__)"
      ],
      "metadata": {
        "colab": {
          "base_uri": "https://localhost:8080/"
        },
        "id": "NsnDVGsxmp2H",
        "outputId": "ae179606-1915-44d8-c5e4-f3496955412b"
      },
      "execution_count": 216,
      "outputs": [
        {
          "output_type": "stream",
          "name": "stdout",
          "text": [
            "tensorflow version is  2.8.2\n"
          ]
        }
      ]
    },
    {
      "cell_type": "markdown",
      "source": [
        "#### RNN initialization"
      ],
      "metadata": {
        "id": "uaoBN7OjcTfd"
      }
    },
    {
      "cell_type": "code",
      "source": [
        "RNN=tf.keras.models.Sequential()"
      ],
      "metadata": {
        "id": "CUuzKuFfcLz8"
      },
      "execution_count": 217,
      "outputs": []
    },
    {
      "cell_type": "markdown",
      "source": [
        "#### Architecture : 4 LSTMs layers "
      ],
      "metadata": {
        "id": "2hJtELXedDr5"
      }
    },
    {
      "cell_type": "markdown",
      "source": [
        "**LSTM 1**"
      ],
      "metadata": {
        "id": "RbugaglBnGpr"
      }
    },
    {
      "cell_type": "code",
      "source": [
        "RNN.add(tf.keras.layers.LSTM(units = 50, return_sequences = True, input_shape = (X.shape[1], 1)))"
      ],
      "metadata": {
        "id": "bkxx1Id1cwYR"
      },
      "execution_count": 218,
      "outputs": []
    },
    {
      "cell_type": "markdown",
      "source": [
        "20% of neurons of the LSTM will be dropped in training process :**it's a regularization used to prevent the RNN from the overftting** "
      ],
      "metadata": {
        "id": "iVtvyenSmgzB"
      }
    },
    {
      "cell_type": "code",
      "source": [
        "RNN.add(tf.keras.layers.Dropout(0.2))"
      ],
      "metadata": {
        "id": "3BSd0qyOlUIb"
      },
      "execution_count": 219,
      "outputs": []
    },
    {
      "cell_type": "markdown",
      "source": [
        "**LSTM 2**"
      ],
      "metadata": {
        "id": "t6ryB352nM_J"
      }
    },
    {
      "cell_type": "code",
      "source": [
        "RNN.add(tf.keras.layers.LSTM(units = 50, return_sequences = True))\n",
        "RNN.add(tf.keras.layers.Dropout(0.2))"
      ],
      "metadata": {
        "id": "YE0G5A89nEjY"
      },
      "execution_count": 220,
      "outputs": []
    },
    {
      "cell_type": "markdown",
      "source": [
        "**LSTM 3**"
      ],
      "metadata": {
        "id": "9-C3kN4WngHM"
      }
    },
    {
      "cell_type": "code",
      "source": [
        "RNN.add(tf.keras.layers.LSTM(units = 50, return_sequences = True))\n",
        "RNN.add(tf.keras.layers.Dropout(0.2))"
      ],
      "metadata": {
        "id": "Shr4nD1RnaHV"
      },
      "execution_count": 221,
      "outputs": []
    },
    {
      "cell_type": "markdown",
      "source": [
        "**LSTM 4**"
      ],
      "metadata": {
        "id": "UjHp0Tbwnl6x"
      }
    },
    {
      "cell_type": "code",
      "source": [
        "RNN.add(tf.keras.layers.LSTM(units = 50))\n",
        "RNN.add(tf.keras.layers.Dropout(0.2))"
      ],
      "metadata": {
        "id": "t_rEwxfonlAM"
      },
      "execution_count": 222,
      "outputs": []
    },
    {
      "cell_type": "code",
      "source": [
        "RNN.add(tf.keras.layers.Dense(units=1))"
      ],
      "metadata": {
        "id": "OgvQgBaAnsVU"
      },
      "execution_count": 223,
      "outputs": []
    },
    {
      "cell_type": "code",
      "source": [
        "RNN.compile(optimizer = 'adam', loss = 'mean_squared_error')"
      ],
      "metadata": {
        "id": "Q1PlfrxwoRZz"
      },
      "execution_count": 224,
      "outputs": []
    },
    {
      "cell_type": "code",
      "source": [
        "RNN.fit(X,y_train_frame,epochs=100,batch_size=32)"
      ],
      "metadata": {
        "colab": {
          "base_uri": "https://localhost:8080/"
        },
        "id": "H9fTrSm8ofIO",
        "outputId": "4a47c52a-bd79-464e-c52c-b5989f4198b8"
      },
      "execution_count": 225,
      "outputs": [
        {
          "output_type": "stream",
          "name": "stdout",
          "text": [
            "Epoch 1/100\n",
            "38/38 [==============================] - 11s 106ms/step - loss: 0.0613\n",
            "Epoch 2/100\n",
            "38/38 [==============================] - 4s 105ms/step - loss: 0.0077\n",
            "Epoch 3/100\n",
            "38/38 [==============================] - 4s 105ms/step - loss: 0.0063\n",
            "Epoch 4/100\n",
            "38/38 [==============================] - 4s 103ms/step - loss: 0.0052\n",
            "Epoch 5/100\n",
            "38/38 [==============================] - 4s 103ms/step - loss: 0.0050\n",
            "Epoch 6/100\n",
            "38/38 [==============================] - 4s 104ms/step - loss: 0.0052\n",
            "Epoch 7/100\n",
            "38/38 [==============================] - 4s 104ms/step - loss: 0.0047\n",
            "Epoch 8/100\n",
            "38/38 [==============================] - 4s 107ms/step - loss: 0.0051\n",
            "Epoch 9/100\n",
            "38/38 [==============================] - 4s 106ms/step - loss: 0.0049\n",
            "Epoch 10/100\n",
            "38/38 [==============================] - 4s 106ms/step - loss: 0.0057\n",
            "Epoch 11/100\n",
            "38/38 [==============================] - 4s 103ms/step - loss: 0.0045\n",
            "Epoch 12/100\n",
            "38/38 [==============================] - 4s 106ms/step - loss: 0.0044\n",
            "Epoch 13/100\n",
            "38/38 [==============================] - 4s 105ms/step - loss: 0.0045\n",
            "Epoch 14/100\n",
            "38/38 [==============================] - 4s 105ms/step - loss: 0.0049\n",
            "Epoch 15/100\n",
            "38/38 [==============================] - 4s 104ms/step - loss: 0.0045\n",
            "Epoch 16/100\n",
            "38/38 [==============================] - 4s 105ms/step - loss: 0.0040\n",
            "Epoch 17/100\n",
            "38/38 [==============================] - 4s 104ms/step - loss: 0.0046\n",
            "Epoch 18/100\n",
            "38/38 [==============================] - 4s 104ms/step - loss: 0.0050\n",
            "Epoch 19/100\n",
            "38/38 [==============================] - 4s 104ms/step - loss: 0.0058\n",
            "Epoch 20/100\n",
            "38/38 [==============================] - 4s 105ms/step - loss: 0.0043\n",
            "Epoch 21/100\n",
            "38/38 [==============================] - 4s 106ms/step - loss: 0.0042\n",
            "Epoch 22/100\n",
            "38/38 [==============================] - 4s 109ms/step - loss: 0.0041\n",
            "Epoch 23/100\n",
            "38/38 [==============================] - 4s 109ms/step - loss: 0.0039\n",
            "Epoch 24/100\n",
            "38/38 [==============================] - 4s 107ms/step - loss: 0.0037\n",
            "Epoch 25/100\n",
            "38/38 [==============================] - 4s 107ms/step - loss: 0.0038\n",
            "Epoch 26/100\n",
            "38/38 [==============================] - 4s 106ms/step - loss: 0.0040\n",
            "Epoch 27/100\n",
            "38/38 [==============================] - 4s 106ms/step - loss: 0.0047\n",
            "Epoch 28/100\n",
            "38/38 [==============================] - 4s 105ms/step - loss: 0.0036\n",
            "Epoch 29/100\n",
            "38/38 [==============================] - 4s 106ms/step - loss: 0.0044\n",
            "Epoch 30/100\n",
            "38/38 [==============================] - 4s 105ms/step - loss: 0.0040\n",
            "Epoch 31/100\n",
            "38/38 [==============================] - 4s 107ms/step - loss: 0.0040\n",
            "Epoch 32/100\n",
            "38/38 [==============================] - 4s 110ms/step - loss: 0.0038\n",
            "Epoch 33/100\n",
            "38/38 [==============================] - 4s 105ms/step - loss: 0.0037\n",
            "Epoch 34/100\n",
            "38/38 [==============================] - 4s 105ms/step - loss: 0.0038\n",
            "Epoch 35/100\n",
            "38/38 [==============================] - 4s 105ms/step - loss: 0.0039\n",
            "Epoch 36/100\n",
            "38/38 [==============================] - 4s 105ms/step - loss: 0.0041\n",
            "Epoch 37/100\n",
            "38/38 [==============================] - 4s 105ms/step - loss: 0.0039\n",
            "Epoch 38/100\n",
            "38/38 [==============================] - 4s 106ms/step - loss: 0.0039\n",
            "Epoch 39/100\n",
            "38/38 [==============================] - 4s 104ms/step - loss: 0.0040\n",
            "Epoch 40/100\n",
            "38/38 [==============================] - 4s 106ms/step - loss: 0.0040\n",
            "Epoch 41/100\n",
            "38/38 [==============================] - 4s 104ms/step - loss: 0.0037\n",
            "Epoch 42/100\n",
            "38/38 [==============================] - 4s 105ms/step - loss: 0.0037\n",
            "Epoch 43/100\n",
            "38/38 [==============================] - 4s 105ms/step - loss: 0.0036\n",
            "Epoch 44/100\n",
            "38/38 [==============================] - 4s 105ms/step - loss: 0.0036\n",
            "Epoch 45/100\n",
            "38/38 [==============================] - 4s 104ms/step - loss: 0.0044\n",
            "Epoch 46/100\n",
            "38/38 [==============================] - 4s 106ms/step - loss: 0.0037\n",
            "Epoch 47/100\n",
            "38/38 [==============================] - 4s 106ms/step - loss: 0.0037\n",
            "Epoch 48/100\n",
            "38/38 [==============================] - 4s 104ms/step - loss: 0.0035\n",
            "Epoch 49/100\n",
            "38/38 [==============================] - 4s 104ms/step - loss: 0.0037\n",
            "Epoch 50/100\n",
            "38/38 [==============================] - 4s 104ms/step - loss: 0.0039\n",
            "Epoch 51/100\n",
            "38/38 [==============================] - 4s 104ms/step - loss: 0.0032\n",
            "Epoch 52/100\n",
            "38/38 [==============================] - 4s 106ms/step - loss: 0.0038\n",
            "Epoch 53/100\n",
            "38/38 [==============================] - 4s 106ms/step - loss: 0.0037\n",
            "Epoch 54/100\n",
            "38/38 [==============================] - 4s 105ms/step - loss: 0.0035\n",
            "Epoch 55/100\n",
            "38/38 [==============================] - 4s 105ms/step - loss: 0.0035\n",
            "Epoch 56/100\n",
            "38/38 [==============================] - 4s 105ms/step - loss: 0.0036\n",
            "Epoch 57/100\n",
            "38/38 [==============================] - 4s 106ms/step - loss: 0.0034\n",
            "Epoch 58/100\n",
            "38/38 [==============================] - 4s 105ms/step - loss: 0.0035\n",
            "Epoch 59/100\n",
            "38/38 [==============================] - 4s 104ms/step - loss: 0.0030\n",
            "Epoch 60/100\n",
            "38/38 [==============================] - 4s 105ms/step - loss: 0.0033\n",
            "Epoch 61/100\n",
            "38/38 [==============================] - 4s 104ms/step - loss: 0.0034\n",
            "Epoch 62/100\n",
            "38/38 [==============================] - 4s 105ms/step - loss: 0.0036\n",
            "Epoch 63/100\n",
            "38/38 [==============================] - 4s 105ms/step - loss: 0.0035\n",
            "Epoch 64/100\n",
            "38/38 [==============================] - 4s 104ms/step - loss: 0.0035\n",
            "Epoch 65/100\n",
            "38/38 [==============================] - 4s 105ms/step - loss: 0.0034\n",
            "Epoch 66/100\n",
            "38/38 [==============================] - 4s 106ms/step - loss: 0.0036\n",
            "Epoch 67/100\n",
            "38/38 [==============================] - 4s 105ms/step - loss: 0.0032\n",
            "Epoch 68/100\n",
            "38/38 [==============================] - 4s 105ms/step - loss: 0.0036\n",
            "Epoch 69/100\n",
            "38/38 [==============================] - 4s 105ms/step - loss: 0.0032\n",
            "Epoch 70/100\n",
            "38/38 [==============================] - 4s 103ms/step - loss: 0.0036\n",
            "Epoch 71/100\n",
            "38/38 [==============================] - 4s 105ms/step - loss: 0.0036\n",
            "Epoch 72/100\n",
            "38/38 [==============================] - 4s 104ms/step - loss: 0.0037\n",
            "Epoch 73/100\n",
            "38/38 [==============================] - 4s 105ms/step - loss: 0.0031\n",
            "Epoch 74/100\n",
            "38/38 [==============================] - 4s 104ms/step - loss: 0.0032\n",
            "Epoch 75/100\n",
            "38/38 [==============================] - 4s 104ms/step - loss: 0.0031\n",
            "Epoch 76/100\n",
            "38/38 [==============================] - 4s 104ms/step - loss: 0.0031\n",
            "Epoch 77/100\n",
            "38/38 [==============================] - 4s 106ms/step - loss: 0.0033\n",
            "Epoch 78/100\n",
            "38/38 [==============================] - 4s 106ms/step - loss: 0.0035\n",
            "Epoch 79/100\n",
            "38/38 [==============================] - 4s 104ms/step - loss: 0.0031\n",
            "Epoch 80/100\n",
            "38/38 [==============================] - 4s 105ms/step - loss: 0.0032\n",
            "Epoch 81/100\n",
            "38/38 [==============================] - 4s 105ms/step - loss: 0.0032\n",
            "Epoch 82/100\n",
            "38/38 [==============================] - 4s 105ms/step - loss: 0.0032\n",
            "Epoch 83/100\n",
            "38/38 [==============================] - 4s 104ms/step - loss: 0.0037\n",
            "Epoch 84/100\n",
            "38/38 [==============================] - 4s 106ms/step - loss: 0.0031\n",
            "Epoch 85/100\n",
            "38/38 [==============================] - 4s 106ms/step - loss: 0.0032\n",
            "Epoch 86/100\n",
            "38/38 [==============================] - 4s 105ms/step - loss: 0.0030\n",
            "Epoch 87/100\n",
            "38/38 [==============================] - 4s 104ms/step - loss: 0.0034\n",
            "Epoch 88/100\n",
            "38/38 [==============================] - 4s 106ms/step - loss: 0.0034\n",
            "Epoch 89/100\n",
            "38/38 [==============================] - 4s 105ms/step - loss: 0.0033\n",
            "Epoch 90/100\n",
            "38/38 [==============================] - 4s 105ms/step - loss: 0.0030\n",
            "Epoch 91/100\n",
            "38/38 [==============================] - 4s 104ms/step - loss: 0.0029\n",
            "Epoch 92/100\n",
            "38/38 [==============================] - 4s 104ms/step - loss: 0.0031\n",
            "Epoch 93/100\n",
            "38/38 [==============================] - 4s 107ms/step - loss: 0.0030\n",
            "Epoch 94/100\n",
            "38/38 [==============================] - 4s 105ms/step - loss: 0.0031\n",
            "Epoch 95/100\n",
            "38/38 [==============================] - 4s 106ms/step - loss: 0.0032\n",
            "Epoch 96/100\n",
            "38/38 [==============================] - 4s 105ms/step - loss: 0.0028\n",
            "Epoch 97/100\n",
            "38/38 [==============================] - 4s 106ms/step - loss: 0.0030\n",
            "Epoch 98/100\n",
            "38/38 [==============================] - 4s 105ms/step - loss: 0.0032\n",
            "Epoch 99/100\n",
            "38/38 [==============================] - 4s 105ms/step - loss: 0.0030\n",
            "Epoch 100/100\n",
            "38/38 [==============================] - 4s 105ms/step - loss: 0.0033\n"
          ]
        },
        {
          "output_type": "execute_result",
          "data": {
            "text/plain": [
              "<keras.callbacks.History at 0x7ff866a2aa90>"
            ]
          },
          "metadata": {},
          "execution_count": 225
        }
      ]
    },
    {
      "cell_type": "markdown",
      "source": [
        "## Making predictions"
      ],
      "metadata": {
        "id": "HiCeHptTri34"
      }
    },
    {
      "cell_type": "code",
      "source": [
        "XX_frame=pd.DataFrame(data=XX)"
      ],
      "metadata": {
        "id": "feFRxGjSL8t-"
      },
      "execution_count": 226,
      "outputs": []
    },
    {
      "cell_type": "code",
      "source": [
        "XX_test=XX_frame.iloc[1168:1208,:]\n",
        "XX_test=XX_test.to_numpy()"
      ],
      "metadata": {
        "id": "MdGocgZ5MAtF"
      },
      "execution_count": 227,
      "outputs": []
    },
    {
      "cell_type": "code",
      "source": [
        "XX_test = np.reshape(XX_test, (XX_test.shape[0], XX_test.shape[1], 1))"
      ],
      "metadata": {
        "id": "GtRv1XYbMmBG"
      },
      "execution_count": 228,
      "outputs": []
    },
    {
      "cell_type": "code",
      "source": [
        "XX_test.shape"
      ],
      "metadata": {
        "colab": {
          "base_uri": "https://localhost:8080/"
        },
        "id": "DLoRi8dZMvej",
        "outputId": "79eda005-48f3-4b0a-a14a-bd680ee0511a"
      },
      "execution_count": 229,
      "outputs": [
        {
          "output_type": "execute_result",
          "data": {
            "text/plain": [
              "(40, 50, 1)"
            ]
          },
          "metadata": {},
          "execution_count": 229
        }
      ]
    },
    {
      "cell_type": "code",
      "source": [
        "predicted_stock_price = RNN.predict(XX_test)\n"
      ],
      "metadata": {
        "id": "6BP5hvdT_980"
      },
      "execution_count": 230,
      "outputs": []
    },
    {
      "cell_type": "code",
      "source": [
        "predicted_stock_price"
      ],
      "metadata": {
        "colab": {
          "base_uri": "https://localhost:8080/"
        },
        "id": "uP70SAVVPB6p",
        "outputId": "70281b57-94ad-4864-fd8e-f73abfa6a62c"
      },
      "execution_count": 231,
      "outputs": [
        {
          "output_type": "execute_result",
          "data": {
            "text/plain": [
              "array([[0.89867145],\n",
              "       [0.89796585],\n",
              "       [0.8963796 ],\n",
              "       [0.89652634],\n",
              "       [0.8985895 ],\n",
              "       [0.89928913],\n",
              "       [0.9007306 ],\n",
              "       [0.9014337 ],\n",
              "       [0.901692  ],\n",
              "       [0.90058166],\n",
              "       [0.9005704 ],\n",
              "       [0.90048695],\n",
              "       [0.9000199 ],\n",
              "       [0.8982227 ],\n",
              "       [0.8976541 ],\n",
              "       [0.8965801 ],\n",
              "       [0.89512813],\n",
              "       [0.8937107 ],\n",
              "       [0.89282   ],\n",
              "       [0.89275295],\n",
              "       [0.89167666],\n",
              "       [0.8890823 ],\n",
              "       [0.88933134],\n",
              "       [0.8889193 ],\n",
              "       [0.88738084],\n",
              "       [0.887484  ],\n",
              "       [0.8876564 ],\n",
              "       [0.8883138 ],\n",
              "       [0.8905878 ],\n",
              "       [0.89153594],\n",
              "       [0.8917552 ],\n",
              "       [0.89171034],\n",
              "       [0.8905945 ],\n",
              "       [0.8890869 ],\n",
              "       [0.88722867],\n",
              "       [0.8850599 ],\n",
              "       [0.88362116],\n",
              "       [0.88280493],\n",
              "       [0.8830024 ],\n",
              "       [0.8838304 ]], dtype=float32)"
            ]
          },
          "metadata": {},
          "execution_count": 231
        }
      ]
    },
    {
      "cell_type": "code",
      "source": [
        "predicted_stock_price = scaler.inverse_transform(predicted_stock_price)"
      ],
      "metadata": {
        "id": "mcgtk2LlGFkC"
      },
      "execution_count": 232,
      "outputs": []
    },
    {
      "cell_type": "code",
      "source": [
        "predicted_stock_price"
      ],
      "metadata": {
        "colab": {
          "base_uri": "https://localhost:8080/"
        },
        "id": "KJVSnAy_PF7S",
        "outputId": "f1e89823-1da7-4097-b7b2-aa41d6b5969d"
      },
      "execution_count": 233,
      "outputs": [
        {
          "output_type": "execute_result",
          "data": {
            "text/plain": [
              "array([[831.8316 ],\n",
              "       [831.79   ],\n",
              "       [831.6964 ],\n",
              "       [831.7051 ],\n",
              "       [831.8268 ],\n",
              "       [831.86804],\n",
              "       [831.95306],\n",
              "       [831.9946 ],\n",
              "       [832.0098 ],\n",
              "       [831.9443 ],\n",
              "       [831.9436 ],\n",
              "       [831.9387 ],\n",
              "       [831.91113],\n",
              "       [831.8052 ],\n",
              "       [831.77155],\n",
              "       [831.7082 ],\n",
              "       [831.62256],\n",
              "       [831.5389 ],\n",
              "       [831.4864 ],\n",
              "       [831.4824 ],\n",
              "       [831.41895],\n",
              "       [831.26587],\n",
              "       [831.2805 ],\n",
              "       [831.2562 ],\n",
              "       [831.16547],\n",
              "       [831.1715 ],\n",
              "       [831.1817 ],\n",
              "       [831.22046],\n",
              "       [831.3547 ],\n",
              "       [831.41064],\n",
              "       [831.4236 ],\n",
              "       [831.4209 ],\n",
              "       [831.3551 ],\n",
              "       [831.2661 ],\n",
              "       [831.1565 ],\n",
              "       [831.0285 ],\n",
              "       [830.94366],\n",
              "       [830.8955 ],\n",
              "       [830.90717],\n",
              "       [830.956  ]], dtype=float32)"
            ]
          },
          "metadata": {},
          "execution_count": 233
        }
      ]
    },
    {
      "cell_type": "code",
      "source": [
        "test_real=test.iloc[:,1:2].values\n",
        "plt.plot(test_real, color = 'red', label = 'Real Google Stock Price')\n",
        "plt.plot(predicted_stock_price, color = 'blue', label = 'Predicted Google Stock Price')\n",
        "plt.title('Google Stock Price Prediction')\n",
        "plt.xlabel('Time')\n",
        "plt.ylabel('Google Stock Price')\n",
        "plt.legend()\n",
        "plt.show()"
      ],
      "metadata": {
        "colab": {
          "base_uri": "https://localhost:8080/",
          "height": 261
        },
        "id": "cTtBkSoAPHRK",
        "outputId": "3be1eb91-04d2-411f-bab7-630aa161141e"
      },
      "execution_count": 234,
      "outputs": [
        {
          "output_type": "display_data",
          "data": {
            "text/plain": [
              "<Figure size 504x252 with 1 Axes>"
            ],
            "image/png": "[encoded data removed]"
          },
          "metadata": {
            "needs_background": "light"
          }
        }
      ]
    },
    {
      "cell_type": "markdown",
      "source": [
        "**as we see the model captures all the trends and it eliminates the spikes as we see there is a smooth trend in our model predictions and it starts to capture the godown trend at the end**"
      ],
      "metadata": {
        "id": "F-k_a0rYWAaU"
      }
    },
    {
      "cell_type": "code",
      "source": [],
      "metadata": {
        "id": "2CzjT_d5PgnU"
      },
      "execution_count": 234,
      "outputs": []
    }
  ]
}